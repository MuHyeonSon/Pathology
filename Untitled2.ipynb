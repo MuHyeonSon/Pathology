{
 "cells": [
  {
   "cell_type": "code",
   "execution_count": 1,
   "id": "3cd0b99e",
   "metadata": {},
   "outputs": [
    {
     "name": "stdout",
     "output_type": "stream",
     "text": [
      "Collecting monai-weekly\n",
      "  Downloading monai_weekly-0.9.dev2148-py3-none-any.whl (710 kB)\n",
      "Requirement already satisfied: torch>=1.6 in c:\\users\\user\\anaconda3\\envs\\mhson\\lib\\site-packages (from monai-weekly) (1.9.0)\n",
      "Requirement already satisfied: numpy>=1.17 in c:\\users\\user\\anaconda3\\envs\\mhson\\lib\\site-packages (from monai-weekly) (1.20.1)\n",
      "Requirement already satisfied: typing_extensions in c:\\users\\user\\anaconda3\\envs\\mhson\\lib\\site-packages (from torch>=1.6->monai-weekly) (3.7.4.3)\n",
      "Installing collected packages: monai-weekly\n",
      "Successfully installed monai-weekly-0.9.dev2148\n"
     ]
    }
   ],
   "source": [
    "!pip install monai-weekly"
   ]
  },
  {
   "cell_type": "code",
   "execution_count": 2,
   "id": "b8b58775",
   "metadata": {},
   "outputs": [
    {
     "name": "stdout",
     "output_type": "stream",
     "text": [
      "MONAI version: 0.9.dev2148\n",
      "Numpy version: 1.20.1\n",
      "Pytorch version: 1.9.0\n",
      "MONAI flags: HAS_EXT = False, USE_COMPILED = False\n",
      "MONAI rev id: 63c18670e4d46414eb3b5917fb0632e09bc3f8ed\n",
      "\n",
      "Optional dependencies:\n",
      "Pytorch Ignite version: NOT INSTALLED or UNKNOWN VERSION.\n",
      "Nibabel version: NOT INSTALLED or UNKNOWN VERSION.\n",
      "scikit-image version: 0.18.1\n",
      "Pillow version: 8.2.0\n",
      "Tensorboard version: NOT INSTALLED or UNKNOWN VERSION.\n",
      "gdown version: NOT INSTALLED or UNKNOWN VERSION.\n",
      "TorchVision version: 0.10.0\n",
      "tqdm version: 4.59.0\n",
      "lmdb version: NOT INSTALLED or UNKNOWN VERSION.\n",
      "psutil version: 5.8.0\n",
      "pandas version: 1.2.4\n",
      "einops version: NOT INSTALLED or UNKNOWN VERSION.\n",
      "transformers version: NOT INSTALLED or UNKNOWN VERSION.\n",
      "mlflow version: NOT INSTALLED or UNKNOWN VERSION.\n",
      "\n",
      "For details about installing the optional dependencies, please visit:\n",
      "    https://docs.monai.io/en/latest/installation.html#installing-the-recommended-dependencies\n",
      "\n"
     ]
    }
   ],
   "source": [
    "import logging\n",
    "import os\n",
    "import sys\n",
    "import shutil\n",
    "\n",
    "import matplotlib.pyplot as plt\n",
    "import torch\n",
    "import numpy as np\n",
    "import pandas as pd\n",
    "import monai\n",
    "from monai.config import print_config\n",
    "from monai.data import CacheDataset, DataLoader, ImageDataset, Dataset\n",
    "from monai.data import (\n",
    "    ArrayDataset, GridPatchDataset,  PatchIter)\n",
    "from monai.utils import first\n",
    "from monai.transforms import (\n",
    "    ResizeWithPadOrCropd,\n",
    "    RandFlipd,\n",
    "    EnsureChannelFirst,\n",
    "    EnsureChannelFirstd,\n",
    "    AsDiscrete,\n",
    "    SpatialCropd,\n",
    "    RandCropByPosNegLabeld,\n",
    "    RandSpatialCropd,\n",
    "    RandSpatialCropSamplesd,\n",
    "    CropForeground,\n",
    "    CropForegroundd,\n",
    "    RandGaussianNoised,\n",
    "    Spacing,\n",
    "    Spacingd,\n",
    "    AddChannel,\n",
    "    Compose,\n",
    "    LoadImage,\n",
    "    Resize,\n",
    "    #EnsureType,\n",
    "    Randomizable,\n",
    "    LoadImaged,\n",
    "    EnsureType,\n",
    "    EnsureTyped,    \n",
    "    AddChanneld,\n",
    "    RandAffined,\n",
    "    Resized,\n",
    "    RandShiftIntensityd,\n",
    "    ScaleIntensityRanged,\n",
    "    ScaleIntensityRange,\n",
    "    MapTransform,\n",
    "    RandSpatialCropd,\n",
    "    CenterSpatialCropd,\n",
    ")\n",
    "\n",
    "from monai.data import DataLoader\n",
    "from monai.losses import DiceLoss\n",
    "from monai.metrics import DiceMetric\n",
    "from monai.networks.nets import UNet\n",
    "from monai.utils import set_determinism\n",
    "from monai.data import CacheDataset, DataLoader, Dataset\n",
    "from monai.utils import first\n",
    "from monai.inferers import sliding_window_inference\n",
    "from monai.metrics import compute_meandice\n",
    "\n",
    "logging.basicConfig(stream=sys.stdout, level=logging.INFO)\n",
    "print_config()"
   ]
  },
  {
   "cell_type": "code",
   "execution_count": 6,
   "id": "ddad1707",
   "metadata": {},
   "outputs": [
    {
     "name": "stdout",
     "output_type": "stream",
     "text": [
      "경로 존재X\n"
     ]
    }
   ],
   "source": [
    "root_dir = 'C:\\\\Users\\\\손창익\\\\Desktop\\\\AI\\\\인공지능을이용한의료영상처리및실습\\\\프로젝트\\\\'\n",
    "\n",
    "data_dir = os.path.join(root_dir, \"brats18_train\") # root_dir내에 데이터 디렉토리 경로를 저장\n",
    "if os.path.exists(data_dir):    # 지정된 경로가 존재하는지 여부를 확인하는데 사용\n",
    "    print(\"경로 존재\")\n",
    "else:\n",
    "    print(\"경로 존재X\")"
   ]
  },
  {
   "cell_type": "code",
   "execution_count": null,
   "id": "22a13cca",
   "metadata": {},
   "outputs": [],
   "source": []
  }
 ],
 "metadata": {
  "kernelspec": {
   "display_name": "Python 3",
   "language": "python",
   "name": "python3"
  },
  "language_info": {
   "codemirror_mode": {
    "name": "ipython",
    "version": 3
   },
   "file_extension": ".py",
   "mimetype": "text/x-python",
   "name": "python",
   "nbconvert_exporter": "python",
   "pygments_lexer": "ipython3",
   "version": "3.9.4"
  }
 },
 "nbformat": 4,
 "nbformat_minor": 5
}
