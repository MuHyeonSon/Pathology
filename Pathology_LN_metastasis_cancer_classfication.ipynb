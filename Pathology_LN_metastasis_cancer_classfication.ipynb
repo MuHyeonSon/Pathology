{
  "nbformat": 4,
  "nbformat_minor": 0,
  "metadata": {
    "colab": {
      "name": "Pathology_LN_metastasis_cancer_classfication.ipynb",
      "provenance": [],
      "collapsed_sections": []
    },
    "kernelspec": {
      "name": "python3",
      "display_name": "Python 3"
    },
    "language_info": {
      "name": "python"
    },
    "accelerator": "GPU"
  },
  "cells": [
    {
      "cell_type": "markdown",
      "metadata": {
        "id": "0ikA93sWO6Wd"
      },
      "source": [
        "# Pathology LN_mestasis classification 8/3 (2d)"
      ]
    },
    {
      "cell_type": "markdown",
      "metadata": {
        "id": "T2W-yHQvPQqs"
      },
      "source": [
        "# Medical Image Classification Tutorial with the MedNIST Dataset\n",
        "\n",
        "In this tutorial, we introduce an end-to-end training and evaluation example based on the MedNIST dataset.\n",
        "\n",
        "We'll go through the following steps (앞으로의 과정을 통해 할 것):\n",
        "\n",
        "1. Create a dataset for training and testing (training 과 test를 위한 데이터셋 만들기)\n",
        "2. Use MONAI transforms to pre-process data (데이터 전처리를 위해MONAI transforms를 사용)\n",
        "3. Use the DenseNet from MONAI for classification (classification을 위해 MONAI로부터 DensNet 사용)\n",
        "4. Train the model with a PyTorch program (PyTorch program을 통해 모델 학습)\n",
        "5. Evaluate on test dataset (test dataset으로 평가)"
      ]
    },
    {
      "cell_type": "markdown",
      "metadata": {
        "id": "kOJcguZZPb7k"
      },
      "source": [
        "# Setup environment\n",
        "\n",
        "tqdm 는 즉석에서 progress bar 를 생성해주고, 함수나 반복문의 TTC (Time To Completion) 를 예측하는 파이썬 패키지를 말한다.\n",
        "\n",
        "monai-weekly는 AI TOOLKIT for Healthcare Imaging, 추가기능지원을 위해 추가 구문 사용"
      ]
    },
    {
      "cell_type": "code",
      "metadata": {
        "id": "7aTVh3KYPCg1"
      },
      "source": [
        "!python -c \"import monai\" || pip install -q \"monai-weekly[pillow, tqdm]\"\n",
        "!python -c \"import matplotlib\" || pip install -q matplotlib\n",
        "%matplotlib inline"
      ],
      "execution_count": null,
      "outputs": []
    },
    {
      "cell_type": "code",
      "metadata": {
        "id": "6JsQ3-BtQvrE"
      },
      "source": [
        "import monai"
      ],
      "execution_count": null,
      "outputs": []
    },
    {
      "cell_type": "markdown",
      "metadata": {
        "id": "OkK9gJ58PwgD"
      },
      "source": [
        "# Setup imports"
      ]
    },
    {
      "cell_type": "code",
      "metadata": {
        "colab": {
          "base_uri": "https://localhost:8080/"
        },
        "id": "ALKeHXApO5uq",
        "outputId": "96688d94-43bf-4ae3-8561-d0d8fba1d0ac"
      },
      "source": [
        "\n",
        "# Copyright 2020 MONAI Consortium\n",
        "# Licensed under the Apache License, Version 2.0 (the \"License\");\n",
        "# you may not use this file except in compliance with the License.\n",
        "# You may obtain a copy of the License at\n",
        "#     http://www.apache.org/licenses/LICENSE-2.0\n",
        "# Unless required by applicable law or agreed to in writing, software\n",
        "# distributed under the License is distributed on an \"AS IS\" BASIS,\n",
        "# WITHOUT WARRANTIES OR CONDITIONS OF ANY KIND, either express or implied.\n",
        "# See the License for the specific language governing permissions and\n",
        "# limitations under the License.\n",
        "\n",
        "import os\n",
        "import shutil\n",
        "import tempfile\n",
        "import matplotlib.pyplot as plt\n",
        "import PIL\n",
        "import torch\n",
        "import numpy as np\n",
        "from sklearn.metrics import classification_report\n",
        "\n",
        "from monai.apps import download_and_extract\n",
        "from monai.config import print_config\n",
        "from monai.data import decollate_batch\n",
        "from monai.metrics import ROCAUCMetric\n",
        "from monai.networks.nets import DenseNet121\n",
        "from monai.transforms import (\n",
        "    Activations,\n",
        "    AddChannel,\n",
        "    AsDiscrete,\n",
        "    Compose,\n",
        "    LoadImage,\n",
        "    RandFlip,\n",
        "    RandRotate,\n",
        "    RandZoom,\n",
        "    ScaleIntensity,\n",
        "    EnsureType,\n",
        ")\n",
        "from monai.utils import set_determinism\n",
        "\n",
        "print_config()"
      ],
      "execution_count": null,
      "outputs": [
        {
          "output_type": "stream",
          "text": [
            "MONAI version: 0.7.dev2131\n",
            "Numpy version: 1.19.5\n",
            "Pytorch version: 1.9.0+cu102\n",
            "MONAI flags: HAS_EXT = False, USE_COMPILED = False\n",
            "MONAI rev id: 57467c75bff90e6c9da74461f7da3a828a39626b\n",
            "\n",
            "Optional dependencies:\n",
            "Pytorch Ignite version: NOT INSTALLED or UNKNOWN VERSION.\n",
            "Nibabel version: 3.0.2\n",
            "scikit-image version: 0.16.2\n",
            "Pillow version: 7.1.2\n",
            "Tensorboard version: 2.5.0\n",
            "gdown version: 3.6.4\n",
            "TorchVision version: 0.10.0+cu102\n",
            "tqdm version: 4.62.0\n",
            "lmdb version: 0.99\n",
            "psutil version: 5.4.8\n",
            "pandas version: 1.1.5\n",
            "einops version: 0.3.0\n",
            "\n",
            "For details about installing the optional dependencies, please visit:\n",
            "    https://docs.monai.io/en/latest/installation.html#installing-the-recommended-dependencies\n",
            "\n"
          ],
          "name": "stdout"
        }
      ]
    },
    {
      "cell_type": "code",
      "metadata": {
        "colab": {
          "base_uri": "https://localhost:8080/"
        },
        "id": "b8offjMfP_kU",
        "outputId": "4fa3827a-f025-493f-96f9-57d31f2a97e3"
      },
      "source": [
        "!pip install einops"
      ],
      "execution_count": null,
      "outputs": [
        {
          "output_type": "stream",
          "text": [
            "Requirement already satisfied: einops in /usr/local/lib/python3.7/dist-packages (0.3.0)\n"
          ],
          "name": "stdout"
        }
      ]
    },
    {
      "cell_type": "markdown",
      "metadata": {
        "id": "uypEuw0HRAAl"
      },
      "source": [
        "# Setup data directory\n",
        "\n",
        "You can specify a directory with the MONAI_DATA_DIRECTORY environment variable.\n",
        "This allows you to save results and reuse downloads.\n",
        "If not specified a temporary directory will be used."
      ]
    },
    {
      "cell_type": "code",
      "metadata": {
        "colab": {
          "base_uri": "https://localhost:8080/"
        },
        "id": "Q5VVx5RQRDjH",
        "outputId": "162a0d5f-5bde-4fc8-d5fb-8f0d6efdd38c"
      },
      "source": [
        "directory = os.environ.get(\"MONAI_DATA_DIRECTORY\") #Python에서os.environ.get()함수를 사용하여 환경 변수 가져 오기\n",
        "root_dir = tempfile.mkdtemp() if directory is None else directory #directory가 None이면 임시 디렉토리 생성하고 그것의 경로를 root_dir에 저장하라.\n",
        "print(root_dir)"
      ],
      "execution_count": null,
      "outputs": [
        {
          "output_type": "stream",
          "text": [
            "/tmp/tmpw_0r55ic\n"
          ],
          "name": "stdout"
        }
      ]
    },
    {
      "cell_type": "markdown",
      "metadata": {
        "id": "lIjEodreSHm8"
      },
      "source": [
        "# Download dataset\n",
        "\n",
        "The MedNIST dataset was gathered from several sets from TCIA, the RSNA Bone Age Challenge, and the NIH Chest X-ray dataset.\n",
        "\n",
        "The dataset is kindly made available by Dr. Bradley J. Erickson M.D., Ph.D. (Department of Radiology, Mayo Clinic) under the Creative Commons CC BY-SA 4.0 license.\n",
        "\n",
        "If you use the MedNIST dataset, please acknowledge the source.\n",
        "\n",
        "(MedNIST 데이터 세트는 TCIA, RSNA Bone Age Challenge 및 NIH 흉부 X선 데이터 세트에서 수집되었습니다.\n",
        "\n",
        "데이터셋은 Creative Commons CC BY-SA 4.0 라이센스로 Bradley J. Ericson M.D., Ph.D(Department of Radiology, Mayo Clinic)에 의해 제공됩니다.\n",
        "\n",
        "MedNIST 데이터 집합을 사용하는 경우 소스를 확인하십시오.)"
      ]
    },
    {
      "cell_type": "code",
      "metadata": {
        "colab": {
          "base_uri": "https://localhost:8080/"
        },
        "id": "gVcJXr2mSN7q",
        "outputId": "4355952b-8b18-4f70-abdf-91dc45635ecd"
      },
      "source": [
        "resource = \"https://drive.google.com/uc?id=1QsnnkvZyJPcbRoV_ArW8SnE1OTuoVbKE\"\n",
        "md5 = \"0bc7306e7427e00ad1c5526a6677552d\"\n",
        "\n",
        "compressed_file = os.path.join(root_dir, \"MedNIST.tar.gz\") #인수에 전달된 2개의 문자열을 결합하여, 1개의 경로로 설정\n",
        "data_dir = os.path.join(root_dir, \"MedNIST\") \n",
        "if not os.path.exists(data_dir):  # 지정된 경로가 존재하는지 여부를 확인하는데 사용\n",
        "    download_and_extract(resource, compressed_file, root_dir, md5) #resource에서 root_dir에 저장하고 압축풀기\n",
        "    #MD5(Message-Digest algorithm 5)는 128비트 암호화 해시 함수이다."
      ],
      "execution_count": null,
      "outputs": [
        {
          "output_type": "stream",
          "text": [
            "Downloading...\n",
            "From: https://drive.google.com/uc?id=1QsnnkvZyJPcbRoV_ArW8SnE1OTuoVbKE\n",
            "To: /tmp/tmp2pz61myo/MedNIST.tar.gz\n",
            "61.8MB [00:00, 117MB/s]\n"
          ],
          "name": "stderr"
        },
        {
          "output_type": "stream",
          "text": [
            "Downloaded: /tmp/tmpw_0r55ic/MedNIST.tar.gz\n",
            "Verified 'MedNIST.tar.gz', md5: 0bc7306e7427e00ad1c5526a6677552d.\n",
            "Writing into directory: /tmp/tmpw_0r55ic.\n"
          ],
          "name": "stdout"
        }
      ]
    },
    {
      "cell_type": "markdown",
      "metadata": {
        "id": "f8bhXrRTTjsr"
      },
      "source": [
        "# Set deterministic training for reproducibility\n",
        "\n",
        "재현성에 대한 결정론적 training 설정"
      ]
    },
    {
      "cell_type": "code",
      "metadata": {
        "id": "HE_xDYflTuve"
      },
      "source": [
        "set_determinism(seed=0) # 결과가 계속 랜덤하게 바뀌니까 돌릴 때마다 결과가 일정하게 나오도록 컴퓨터가 랜덤\n",
        "#중요\n",
        "# pseudorandom 컴퓨터에서 random variable을 발생시키는 건 이미 있는 수식을 통해 만들어지는 거임 seed값을 시간이나 날짜를 통해 정하게 해서 랜덤하게 보이도록 하는 것."
      ],
      "execution_count": null,
      "outputs": []
    },
    {
      "cell_type": "markdown",
      "metadata": {
        "id": "0jm4Yqb2T9wB"
      },
      "source": [
        "# Read image filenames from the dataset folders\n",
        "\n",
        "First of all, check the dataset files and show some statistics.\n",
        "There are 6 folders in the dataset: Hand, AbdomenCT, CXR, ChestCT, BreastMRI, HeadCT,\n",
        "which should be used as the labels to train our classification model.\n",
        "\n",
        "먼저 데이터 집합 파일을 확인하고 일부 통계를 표시합니다. 데이터 세트에는 다음과 같은 6개의 폴더가 있습니다. Hand, Abdomen CT, CXR, ChestCT, BreastMRI, HeadCT, 이 라벨은 당사의 분류 모델을 training하는 데 사용됩니다.\n",
        "\n",
        "Abdomen : 복부\n",
        "Breast : 흉부\n",
        "CXR : chest X-ray\n",
        "ChestCT : chest CT\n",
        "Hand : 손\n",
        "Head CT : 머리 CT\n",
        "\n",
        "Data 형식 : jpeg (64 * 64)"
      ]
    },
    {
      "cell_type": "code",
      "metadata": {
        "id": "1RHRWTUJS5gO"
      },
      "source": [
        "data_dir = \"/content/drive/MyDrive/pathology/Data/class\""
      ],
      "execution_count": null,
      "outputs": []
    },
    {
      "cell_type": "code",
      "metadata": {
        "colab": {
          "base_uri": "https://localhost:8080/"
        },
        "id": "RCxCQSkrT9DC",
        "outputId": "8bdb9c18-7b1e-4920-b4e5-7c07c03ce2f0"
      },
      "source": [
        "# listdir : 디렉토리 내의 [모든 파일과 디렉토리의 폴더명] 리스트를 리턴한다\n",
        "# parameters = 디렉토리의 path\n",
        "#os.path.isdir() : 폴더 유무 판단\n",
        "#입력된 경로가 폴더인지 아닌지 판별해준다\n",
        "#밑에 코드가 하는 것은 경로로부터 디렉토리들을 추출하여 리스트로 만든다\n",
        "class_names = sorted(x for x in os.listdir(data_dir)\n",
        "                     if os.path.isdir(os.path.join(data_dir, x)))\n",
        "\n",
        "num_class = len(class_names) # num_class = 3\n",
        "\n",
        "# class 디렉토리마다 저장되어있는 모든 파일의 경로를 추출하여 class\n",
        "#마다 list로 만든다.\n",
        "image_files = [\n",
        "    [\n",
        "        os.path.join(data_dir, class_names[i], x)\n",
        "        for x in os.listdir(os.path.join(data_dir, class_names[i])) #밑에 for문이랑 아래 for문 몇번도는지 숙제\n",
        "    ]\n",
        "    for i in range(num_class)\n",
        "] \n",
        "# 각 class에 대한 이미지파일의 개수를 num_each에 저장\n",
        "num_each = [len(image_files[i]) for i in range(num_class)]\n",
        "\n",
        "image_files_list = []\n",
        "image_class = []\n",
        "\n",
        "for i in range(num_class):\n",
        "    image_files_list.extend(image_files[i]) #image_files_list 에 모든 파일 경로 넣음 \n",
        "    image_class.extend([i] * num_each[i]) #각 class에 데이터 개수 만큼 클래스를 입력\n",
        "num_total = len(image_class) # 이미지의 전체 개수 저장\n",
        "\n",
        "# 첫번째 이미지를 열어서 size를 추출하여 넓이와 높이를 추출\n",
        "image_width, image_height = PIL.Image.open(image_files_list[0]).size\n",
        "\n",
        "print(f\"Total image count: {num_total}\")\n",
        "print(f\"Image dimensions: {image_width} x {image_height}\")\n",
        "print(f\"Label names: {class_names}\")\n",
        "print(f\"Label counts: {num_each}\")"
      ],
      "execution_count": null,
      "outputs": [
        {
          "output_type": "stream",
          "text": [
            "Total image count: 491\n",
            "Image dimensions: 705 x 553\n",
            "Label names: ['abnormal', 'black', 'normal']\n",
            "Label counts: [177, 169, 145]\n"
          ],
          "name": "stdout"
        }
      ]
    },
    {
      "cell_type": "code",
      "metadata": {
        "colab": {
          "base_uri": "https://localhost:8080/"
        },
        "id": "cZGXtHNlnO_B",
        "outputId": "23802568-e105-42be-9dc2-6d6c38f83fc4"
      },
      "source": [
        "image_files_list[200:235]"
      ],
      "execution_count": null,
      "outputs": [
        {
          "output_type": "execute_result",
          "data": {
            "text/plain": [
              "['/content/drive/MyDrive/pathology/Data/class/black/Image152.png',\n",
              " '/content/drive/MyDrive/pathology/Data/class/black/Image155.png',\n",
              " '/content/drive/MyDrive/pathology/Data/class/black/Image157.png',\n",
              " '/content/drive/MyDrive/pathology/Data/class/black/Image15.png',\n",
              " '/content/drive/MyDrive/pathology/Data/class/black/Image145.png',\n",
              " '/content/drive/MyDrive/pathology/Data/class/black/Image142.png',\n",
              " '/content/drive/MyDrive/pathology/Data/class/black/Image148.png',\n",
              " '/content/drive/MyDrive/pathology/Data/class/black/Image147.png',\n",
              " '/content/drive/MyDrive/pathology/Data/class/black/Image14.png',\n",
              " '/content/drive/MyDrive/pathology/Data/class/black/Image141.png',\n",
              " '/content/drive/MyDrive/pathology/Data/class/black/Image146.png',\n",
              " '/content/drive/MyDrive/pathology/Data/class/black/Image143.png',\n",
              " '/content/drive/MyDrive/pathology/Data/class/black/Image144.png',\n",
              " '/content/drive/MyDrive/pathology/Data/class/black/Image140.png',\n",
              " '/content/drive/MyDrive/pathology/Data/class/black/Image135.png',\n",
              " '/content/drive/MyDrive/pathology/Data/class/black/Image139.png',\n",
              " '/content/drive/MyDrive/pathology/Data/class/black/Image133.png',\n",
              " '/content/drive/MyDrive/pathology/Data/class/black/Image134.png',\n",
              " '/content/drive/MyDrive/pathology/Data/class/black/Image138.png',\n",
              " '/content/drive/MyDrive/pathology/Data/class/black/Image131.png',\n",
              " '/content/drive/MyDrive/pathology/Data/class/black/Image137.png',\n",
              " '/content/drive/MyDrive/pathology/Data/class/black/Image136.png',\n",
              " '/content/drive/MyDrive/pathology/Data/class/black/Image132.png',\n",
              " '/content/drive/MyDrive/pathology/Data/class/black/Image130.png',\n",
              " '/content/drive/MyDrive/pathology/Data/class/black/Image128.png',\n",
              " '/content/drive/MyDrive/pathology/Data/class/black/Image127.png',\n",
              " '/content/drive/MyDrive/pathology/Data/class/black/Image124.png',\n",
              " '/content/drive/MyDrive/pathology/Data/class/black/Image126.png',\n",
              " '/content/drive/MyDrive/pathology/Data/class/black/Image122.png',\n",
              " '/content/drive/MyDrive/pathology/Data/class/black/Image125.png',\n",
              " '/content/drive/MyDrive/pathology/Data/class/black/Image123.png',\n",
              " '/content/drive/MyDrive/pathology/Data/class/black/Image129.png',\n",
              " '/content/drive/MyDrive/pathology/Data/class/black/Image13.png',\n",
              " '/content/drive/MyDrive/pathology/Data/class/black/Image121.png',\n",
              " '/content/drive/MyDrive/pathology/Data/class/black/Image117.png']"
            ]
          },
          "metadata": {
            "tags": []
          },
          "execution_count": 80
        }
      ]
    },
    {
      "cell_type": "markdown",
      "metadata": {
        "id": "P4CWLCttqtAD"
      },
      "source": [
        "# Randomly pick images from the dataset to visualize and check\n",
        "(데이터 셋에서 이미지를 임의로 선택하여 시각화 및 확인)"
      ]
    },
    {
      "cell_type": "markdown",
      "metadata": {
        "id": "3N1oSezpuh9X"
      },
      "source": [
        "np.random.randint(2, size=5)는 [0, 2) 범위에서 다섯개의 임의의 정수를 생성합니다.\n",
        "\n",
        "np.random.randint(2, 4, size=5)는 [2, 4) 범위에서 다섯개의 임의의 정수를 생성합니다.\n",
        "\n",
        "np.random.randint(1, 5, size=(2, 3))는 [1, 5) 범위에서 (2, 3) 형태의 어레이를 생성합니다."
      ]
    },
    {
      "cell_type": "code",
      "metadata": {
        "colab": {
          "base_uri": "https://localhost:8080/",
          "height": 556
        },
        "id": "kYwzzuETqrji",
        "outputId": "df6de5be-bf94-4699-87d0-94006d167e6f"
      },
      "source": [
        "# 3 * 3 subplot을 만든다, figsize(가로길이,세로길이) 단위=inch\n",
        "plt.subplots(3, 3, figsize=(8, 8))\n",
        "\n",
        "# 0에서 num_total(58953) 까지 랜덤한 숫자 1개 뽑아내기 size = 9 by 1\n",
        "for i, k in enumerate(np.random.randint(num_total, size=9)):\n",
        "    # k번째 해당하는 이미지를 열어 im에 저장\n",
        "    im = PIL.Image.open(image_files_list[k])\n",
        "    # 이미지를 numpy의 ndarray로 만듬\n",
        "    arr = np.array(im) \n",
        "    # 그래프를 띄우는 것\n",
        "    plt.subplot(3, 3, i + 1)\n",
        "    #  label text를 써줌\n",
        "    plt.xlabel(class_names[image_class[k]])\n",
        "    # nd array 형태로 만들어진 이미지를 출력\n",
        "    plt.imshow(arr,  vmin=0, vmax=255)\n",
        "plt.tight_layout() # 자동으로 명시된 여백(padding)에 관련된 서브parameter를 조정한다. 입력없이 사용할 경우 기존에 세팅된 기본값을 이용하여 자동으로 레이아웃을 설정\n",
        " # 수치를 표시 imshow는 이미지를 그림\n",
        "plt.show()\n",
        "#imShow() 함수는 이미지 처리 및 형식 표시를 담당하며, plt. show()는 plt.imShow()로 처리된 함수를 표시합니다."
      ],
      "execution_count": null,
      "outputs": [
        {
          "output_type": "display_data",
          "data": {
            "image/png": "[encoded data removed]",
            "text/plain": [
              "<Figure size 576x576 with 9 Axes>"
            ]
          },
          "metadata": {
            "tags": [],
            "needs_background": "light"
          }
        }
      ]
    },
    {
      "cell_type": "markdown",
      "metadata": {
        "id": "rt_-xPf84aOb"
      },
      "source": [
        "# Prepare training, validation and test data lists \n",
        "(traning, validation 및 테스트 데이터 리스트 준비)\n",
        "\n",
        "Randomly select 10% of the dataset as validation and 10% as test.\n",
        "\n",
        "\n",
        "(데이터 집합의 10%를 검증으로, 10%를 테스트로 무작위로 선택합니다)"
      ]
    },
    {
      "cell_type": "code",
      "metadata": {
        "colab": {
          "base_uri": "https://localhost:8080/"
        },
        "id": "JwFUEJY549DQ",
        "outputId": "d86e81bb-13a2-407a-eb3d-5796a8cacfa2"
      },
      "source": [
        "val_frac = 0.1\n",
        "test_frac = 0.1\n",
        "length = len(image_files_list) #전체 데이터의 수\n",
        "indices = np.arange(length) # ndarray를 생성 length=3이면 array([0,1,2])\n",
        "np.random.shuffle(indices) #배열순서를 random하게 섞음\n",
        "\n",
        "test_split = int(test_frac * length) #전체데이터수의 10%에 해당하는 수를 저장\n",
        "val_split = int(val_frac * length) + test_split #10%에 해당하는 데이터와 test data수를 합친 수를 저장  \n",
        "test_indices = indices[:test_split] #0부터 test_split 수만큼 전체 원소에서 원소 추출\n",
        "val_indices = indices[test_split:val_split] #testsplite의 마지막 원소부터 val_split의수 만큼의 원소를 추출\n",
        "train_indices = indices[val_split:] # 나머지 인덱스에 해당하는 원소를 모두 train_indices로 저장\n",
        "\n",
        "train_x = [image_files_list[i] for i in train_indices] #image_files_list로부터 인덱싱을 통해 train 데이터셋 추출\n",
        "train_y = [image_class[i] for i in train_indices]      #imageclass로부터 train 데이터에 대한 레이블데이터 추출\n",
        "val_x = [image_files_list[i] for i in val_indices]     #image_files_list로부터 인덱싱을 통해 valid 데이터셋 추출\n",
        "val_y = [image_class[i] for i in val_indices]          #imageclass로부터 valid 데이터에 대한 레이블데이터 추출\n",
        "test_x = [image_files_list[i] for i in test_indices]   #image_files_list로부터 인덱싱을 통해 test 데이터셋 추출\n",
        "test_y = [image_class[i] for i in test_indices]        #imageclass로부터 test 데이터에 대한 레이블데이터 추출\n",
        "\n",
        "# train,valid,test 각 데이터의 수 출력\n",
        "print(\n",
        "    f\"Training count: {len(train_x)}, Validation count: \"\n",
        "    f\"{len(val_x)}, Test count: {len(test_x)}\")"
      ],
      "execution_count": null,
      "outputs": [
        {
          "output_type": "stream",
          "text": [
            "Training count: 393, Validation count: 49, Test count: 49\n"
          ],
          "name": "stdout"
        }
      ]
    },
    {
      "cell_type": "markdown",
      "metadata": {
        "id": "aHGVxu4f-yxH"
      },
      "source": [
        "# Define MONAI transforms, Dataset and Dataloader to pre-process data\n",
        "\n",
        "( 데이터 전처리를 위해 Dataset과 Dataloader, Monai transforms를 정의)"
      ]
    },
    {
      "cell_type": "markdown",
      "metadata": {
        "id": "M55_cHlRDzfd"
      },
      "source": [
        "AddChannel : 입력 이미지에 1길이 채널 차원을 추가합니다.\n",
        "\n",
        "    ``monai.transforms``의 대부분의 이미지 변환 \n",
        "    은 입력 이미지가 채널 우선 형식이라고 가정하며, 모양은 \n",
        "    (num_channels, spatial_dim_1[, spatial_dim_2, ...])입니다.\n",
        "\n",
        "    예를 들어 이 변환을 사용하여 (spatial_dim_1[, spatial_dim_2, ...]) \n",
        "    공간 이미지를 채널 우선 형식으로 \n",
        "    변환 하여     다차원 이미지 배열을 다른 \n",
        "변환 \n",
        "에서 올바르게 해석할 수 있습니다 .     \"\""
      ]
    },
    {
      "cell_type": "code",
      "metadata": {
        "id": "Ddw18nNL_Psc"
      },
      "source": [
        "#AddChannel(),Adds a 1-length channel dimension to the input image.\n",
        "#ScaleIntensity(),:입력 이미지의 강도를 주어진 값 범위(minv, maxv)로 조정합니다. 경우 minv 및 maxv은 하지를 사용 제공 요인 에 의해 규모의 이미지\n",
        "#RandRotate(range_x=np.pi / 12, prob=0.5, keep_size=True), 인풋어레이를 랜덤하게 rotate함,probe=rotation의 확률\n",
        "#RandFlip(spatial_axis=0, prob=0.5), #축을 따라 이미지를 무작위로 뒤집습니다. 모양을 유지합니다.\n",
        "#RandZoom(min_zoom=0.9, max_zoom=1.1, prob=0.5), #주어진 확대/축소 범위 내에서 주어진 확률로 입력 배열을 무작위로 확대합니다.\n",
        "#EnsureType(),#입력 데이터가 PyTorch Tensor 또는 numpy 배열인지 확인하고 지원: numpy array , PyTorch Tensor , float , int , bool , string 및 object 는 원본을 유지합니다. 사전, 목록 또는 튜플을 전달하는 경우 여전히 사전, 목록 또는 튜플을 반환하고 모든 항목을 예상 데이터 유형으로 재귀적으로 변환합니다.\n",
        "\n",
        "train_transforms = Compose(\n",
        "    [\n",
        "        LoadImage(image_only=True),\n",
        "        \n",
        "        ScaleIntensity(),\n",
        "        RandRotate(range_x=np.pi / 12, prob=0.5, keep_size=True),\n",
        "        RandFlip(spatial_axis=0, prob=0.5), \n",
        "        RandZoom(min_zoom=0.9, max_zoom=1.1, prob=0.5), \n",
        "        EnsureType(),\n",
        "    ]\n",
        ")\n",
        "\n",
        "val_transforms = Compose(\n",
        "    [LoadImage(image_only=True), ScaleIntensity(), EnsureType()])\n",
        "\n",
        "y_pred_trans = Compose([EnsureType(), Activations(softmax=True)])\n",
        "y_trans = Compose([EnsureType(), AsDiscrete(to_onehot=True, n_classes=num_class)])"
      ],
      "execution_count": null,
      "outputs": []
    },
    {
      "cell_type": "code",
      "metadata": {
        "colab": {
          "base_uri": "https://localhost:8080/"
        },
        "id": "j735WL08_bjF",
        "outputId": "dd05acbc-eec6-45fa-f3a3-bdd75eb1f1c4"
      },
      "source": [
        "# 모델에 입력하기 위한 training, validation 또는 test 데이터셋 생성하기 위한 class선언\n",
        "class MedNISTDataset(torch.utils.data.Dataset): #상속함 ()안에들어있는거\n",
        "    def __init__(self, image_files, labels, transforms):\n",
        "        self.image_files = image_files\n",
        "        self.labels = labels\n",
        "        self.transforms = transforms\n",
        "\n",
        "    def __len__(self):\n",
        "        return len(self.image_files)\n",
        "\n",
        "    def __getitem__(self, index):\n",
        "        return self.transforms(self.image_files[index]), self.labels[index]\n",
        "\n",
        "# data_loader 정의(DataLoader = 데이터셋과 샘플러를 결합하고 사용 가능한 데이터셋을 제공합니다.)\n",
        "# num_workers = 학습 도중 CPU의 작업을 몇 개의 코어를 사용해서 진행할지에 대한 설정 파라미터입니다\n",
        "train_ds = MedNISTDataset(train_x, train_y,train_transforms)\n",
        "train_loader = torch.utils.data.DataLoader(\n",
        "    train_ds, batch_size=5, shuffle=True, num_workers=10)\n",
        "\n",
        "val_ds = MedNISTDataset(val_x, val_y, val_transforms)\n",
        "val_loader = torch.utils.data.DataLoader(\n",
        "    val_ds, batch_size=5, num_workers=10)\n",
        "\n",
        "test_ds = MedNISTDataset(test_x, test_y, val_transforms)\n",
        "test_loader = torch.utils.data.DataLoader(\n",
        "    test_ds, batch_size=5, num_workers=10)"
      ],
      "execution_count": null,
      "outputs": [
        {
          "output_type": "stream",
          "text": [
            "/usr/local/lib/python3.7/dist-packages/torch/utils/data/dataloader.py:481: UserWarning: This DataLoader will create 10 worker processes in total. Our suggested max number of worker in current system is 2, which is smaller than what this DataLoader is going to create. Please be aware that excessive worker creation might get DataLoader running slow or even freeze, lower the worker number to avoid potential slowness/freeze if necessary.\n",
            "  cpuset_checked))\n"
          ],
          "name": "stderr"
        }
      ]
    },
    {
      "cell_type": "code",
      "metadata": {
        "id": "7E1pl659YciL"
      },
      "source": [
        "a,b = train_ds[0]"
      ],
      "execution_count": null,
      "outputs": []
    },
    {
      "cell_type": "code",
      "metadata": {
        "colab": {
          "base_uri": "https://localhost:8080/"
        },
        "id": "s5PDSmqqYqpU",
        "outputId": "28a61634-835f-4577-ed47-7d341488b21c"
      },
      "source": [
        "a.shape"
      ],
      "execution_count": null,
      "outputs": [
        {
          "output_type": "execute_result",
          "data": {
            "text/plain": [
              "torch.Size([1, 705, 553, 4])"
            ]
          },
          "metadata": {
            "tags": []
          },
          "execution_count": 67
        }
      ]
    },
    {
      "cell_type": "markdown",
      "metadata": {
        "id": "4bZNqb49ND8w"
      },
      "source": [
        "# Define network and optimizer\n",
        "\n",
        "1.Set learning rate for how much the model is updated per batch.\n",
        "\n",
        "2.Set total epoch number, as we have shuffle and random transforms, so the training data of every epoch is different.\n",
        "And as this is just a get start tutorial, let's just train 4 epochs.\n",
        "If train 10 epochs, the model can achieve 100% accuracy on test dataset.\n",
        "\n",
        "3.Use DenseNet from MONAI and move to GPU devide, this DenseNet can support both 2D and 3D classification tasks.\n",
        "\n",
        "4.Use Adam optimizer.\n",
        "\n",
        "# 네트워크와 optimizer를 정의\n",
        "\n",
        "1.배치당 모델이 업데이트되는 양에 대한 학습 속도를 설정합니다.\n",
        "\n",
        "2.모든 epoch의 training 데이터가 다르도록 Shuffle 및 랜덤 변환이 있으므로 총 epoch 번호를 설정합니다.\n",
        "그리고 이건 시작 튜토리얼이니까 4단계만 훈련하자.\n",
        "10Epoch를 훈련할 경우 이 모델은 테스트 데이터 집합에서 100% 정확도를 달성할 수 있습니다.\n",
        "\n",
        "3.MONAI에서 DenseNet을 사용하여 GPU Devide로 이동하면, 이 DenseNet은 2D 및 3D 분류 작업을 모두 지원할 수 있습니다.\n",
        "\n",
        "4. Adam Optimizer를 사용합니다."
      ]
    },
    {
      "cell_type": "code",
      "metadata": {
        "id": "WemS4mLsOGVF"
      },
      "source": [
        "\n",
        "device = torch.device(\"cuda:0\") # 저장한 모델을 gpu에서 불러올 때\n",
        "model = DenseNet121(spatial_dims=2, in_channels=4, #DenseNet은 CNN 아키텍쳐 중 하나\n",
        "                    out_channels=num_class).to(device) # out_channels = 출력 채널 수\n",
        "loss_function = torch.nn.CrossEntropyLoss() \n",
        "optimizer = torch.optim.Adam(model.parameters(), 1e-5) # learning rate\n",
        "max_epochs = 3 \n",
        "val_interval = 1\n",
        "auc_metric = ROCAUCMetric() # AUC: ROC 곡선 아래 영역 / AUC 계산 metric"
      ],
      "execution_count": null,
      "outputs": []
    },
    {
      "cell_type": "markdown",
      "metadata": {
        "id": "NvmCsBk0RyxI"
      },
      "source": [
        "#Model training\n",
        "\n",
        "Execute a typical PyTorch training that run epoch loop and step loop, and do validation after every epoch.\n",
        "Will save the model weights to file if got best validation accuracy.\n",
        "\n",
        "epoch 루프 및 스텝 루프를 실행하는 일반적인 PyTorch trainng을 실행하고 epoch가 끝날 때마다 validation을 한다.\n",
        "최상의 validation accuracy를 얻은 경우 모델 weight를 파일에 저장합니다."
      ]
    },
    {
      "cell_type": "code",
      "metadata": {
        "colab": {
          "base_uri": "https://localhost:8080/"
        },
        "id": "pPb0B1s3XA6i",
        "outputId": "7c4abd4d-f10e-4f8b-a055-6939dc5628c4"
      },
      "source": [
        "print(train_loader.batch_size)\n",
        "\n",
        "len(train_ds)\n"
      ],
      "execution_count": null,
      "outputs": [
        {
          "output_type": "stream",
          "text": [
            "5\n"
          ],
          "name": "stdout"
        },
        {
          "output_type": "execute_result",
          "data": {
            "text/plain": [
              "393"
            ]
          },
          "metadata": {
            "tags": []
          },
          "execution_count": 134
        }
      ]
    },
    {
      "cell_type": "code",
      "metadata": {
        "colab": {
          "base_uri": "https://localhost:8080/"
        },
        "id": "7DJ-3UBWdNti",
        "outputId": "b3754a36-b1dc-4d24-c696-299f22ef1a8a"
      },
      "source": [
        "print(type(train_loader))"
      ],
      "execution_count": null,
      "outputs": [
        {
          "output_type": "stream",
          "text": [
            "<class 'torch.utils.data.dataloader.DataLoader'>\n"
          ],
          "name": "stdout"
        }
      ]
    },
    {
      "cell_type": "code",
      "metadata": {
        "colab": {
          "base_uri": "https://localhost:8080/"
        },
        "id": "T0GQ8lccdO_A",
        "outputId": "4e562a86-4a24-454e-a10f-b63cad496371"
      },
      "source": [
        "a.shape"
      ],
      "execution_count": null,
      "outputs": [
        {
          "output_type": "execute_result",
          "data": {
            "text/plain": [
              "torch.Size([705, 553, 4])"
            ]
          },
          "metadata": {
            "tags": []
          },
          "execution_count": 109
        }
      ]
    },
    {
      "cell_type": "code",
      "metadata": {
        "id": "Vr1pn4E8-FFq"
      },
      "source": [
        "root_dir = \"/content/drive/MyDrive/pathology/Data/class\""
      ],
      "execution_count": null,
      "outputs": []
    },
    {
      "cell_type": "code",
      "metadata": {
        "colab": {
          "base_uri": "https://localhost:8080/"
        },
        "id": "LG8AfXmRSYux",
        "outputId": "903f71eb-dcdf-4f32-d3b1-c936bb04966d"
      },
      "source": [
        "#epoch =3\n",
        "#batchsize =5\n",
        "\n",
        "best_metric = -1    \n",
        "best_metric_epoch = -1\n",
        "epoch_loss_values = []\n",
        "metric_values = []\n",
        "\n",
        "for epoch in range(max_epochs): \n",
        "    print(\"-\" * 10)         #구분선\n",
        "    print(f\"epoch {epoch + 1}/{max_epochs}\") #몇번째 epoch인지 출력\n",
        "    model.train()           # 모델 학습\n",
        "    epoch_loss = 0          # epoch_loss(epoch의 average loss) 초기화\n",
        "    step = 0                # step 초기화\n",
        "    for batch_data in train_loader: # train_loader에서 train데이터에 대한 정보가져옴\n",
        "        step += 1\n",
        "        inputs, labels = batch_data[0].to(device), batch_data[1].to(device)\n",
        "        print(inputs.shape)\n",
        "        inputs = inputs.reshape(inputs.shape[0], inputs.shape[3],inputs.shape[1],inputs.shape[2] )#0,3,1,2)\n",
        "        print(inputs.shape)\n",
        "        optimizer.zero_grad() #Pytorch에서는 gradients값들을 추후에 backward를 해줄때 계속 더해주기 때문\"에 우리는 항상 backpropagation을 하기전에 gradients를 zero로 만들어주고 시작을 해야합니다\n",
        "        outputs = model(inputs)\n",
        "        loss = loss_function(outputs, labels) #lossfuction으로 loss 계산\n",
        "        loss.backward() #현재 tensor의 gradient를 계산\n",
        "        optimizer.step() #\n",
        "        epoch_loss += loss.item() #train_loss 값을 epoch_loss에 더해서 저장\n",
        "        print(\n",
        "            f\"{step}/{len(train_ds) // train_loader.batch_size}, \"# train데이터를 batch size로 나눈 값\n",
        "            f\"train_loss: {loss.item():.4f}\") # train loss\n",
        "        epoch_len = len(train_ds) // train_loader.batch_size #epoch수 (47164 /300)\n",
        "    epoch_loss /= step        # average loss는 전체 loss 값 더해준 것을 step으로 나눈 값\n",
        "    epoch_loss_values.append(epoch_loss)  # epoch_loss값 리스트에 원소로 추가\n",
        "    print(f\"epoch {epoch + 1} average loss: {epoch_loss:.4f}\")\n",
        "\n",
        "    if (epoch + 1) % val_interval == 0: # epoch 한 번 돌았으면 나머지 수행\n",
        "        model.eval()   # 모델 평가\n",
        "        with torch.no_grad():    #gradinet 계산하지 않음\n",
        "            y_pred = torch.tensor([], dtype=torch.float32, device=device)\n",
        "            y = torch.tensor([], dtype=torch.long, device=device)\n",
        "            for val_data in val_loader:\n",
        "                val_images, val_labels = (\n",
        "                    val_data[0].to(device),\n",
        "                    val_data[1].to(device),\n",
        "                )\n",
        "                val_images = val_images.reshape(val_images.shape[0], val_images.shape[3],val_images.shape[1],val_images.shape[2] )\n",
        "                \n",
        "                print(y_pred.shape)\n",
        "                y_pred\n",
        "                y_pred = torch.cat([y_pred, model(val_images)], dim=0)\n",
        "                y = torch.cat([y, val_labels], dim=0)\n",
        "            y_onehot = [y_trans(i) for i in decollate_batch(y)]\n",
        "            y_pred_act = [y_pred_trans(i) for i in decollate_batch(y_pred)]\n",
        "            auc_metric(y_pred_act, y_onehot)\n",
        "            result = auc_metric.aggregate() #auc metric을 통해 auc 계산하고 result에 저장\n",
        "            auc_metric.reset() #버퍼를 리셋한다\n",
        "            del y_pred_act, y_onehot #del은 파이썬 어레이의 요소를 삭제\n",
        "            metric_values.append(result) #auc값 list에 추가\n",
        "            acc_value = torch.eq(y_pred.argmax(dim=1), y)\n",
        "            acc_metric = acc_value.sum().item() / len(acc_value)\n",
        "            if result > best_metric:  #best_metric보다 auc크다면 result로 best_metric값 업데이트\n",
        "                best_metric = result  #\n",
        "                best_metric_epoch = epoch + 1 \n",
        "                torch.save(model.state_dict(), os.path.join(  #root_dir에 모델의 weight를 저장\n",
        "                    root_dir, \"best_metric_model.pth\"))\n",
        "                print(\"saved new best metric model\")\n",
        "            print(\n",
        "                f\"current epoch: {epoch + 1} current AUC: {result:.4f}\"\n",
        "                f\" current accuracy: {acc_metric:.4f}\"\n",
        "                f\" best AUC: {best_metric:.4f}\"\n",
        "                f\" at epoch: {best_metric_epoch}\"\n",
        "            )\n",
        "\n",
        "print(\n",
        "    f\"train completed, best_metric: {best_metric:.4f} \"\n",
        "    f\"at epoch: {best_metric_epoch}\")"
      ],
      "execution_count": null,
      "outputs": [
        {
          "output_type": "stream",
          "text": [
            "----------\n",
            "epoch 1/3\n"
          ],
          "name": "stdout"
        },
        {
          "output_type": "stream",
          "text": [
            "/usr/local/lib/python3.7/dist-packages/torch/utils/data/dataloader.py:481: UserWarning: This DataLoader will create 10 worker processes in total. Our suggested max number of worker in current system is 2, which is smaller than what this DataLoader is going to create. Please be aware that excessive worker creation might get DataLoader running slow or even freeze, lower the worker number to avoid potential slowness/freeze if necessary.\n",
            "  cpuset_checked))\n"
          ],
          "name": "stderr"
        },
        {
          "output_type": "stream",
          "text": [
            "torch.Size([5, 705, 553, 4])\n",
            "torch.Size([5, 4, 705, 553])\n",
            "1/78, train_loss: 0.4660\n",
            "torch.Size([5, 705, 553, 4])\n",
            "torch.Size([5, 4, 705, 553])\n",
            "2/78, train_loss: 0.6745\n",
            "torch.Size([5, 705, 553, 4])\n",
            "torch.Size([5, 4, 705, 553])\n",
            "3/78, train_loss: 0.5694\n",
            "torch.Size([5, 705, 553, 4])\n",
            "torch.Size([5, 4, 705, 553])\n",
            "4/78, train_loss: 0.4246\n",
            "torch.Size([5, 705, 553, 4])\n",
            "torch.Size([5, 4, 705, 553])\n",
            "5/78, train_loss: 1.0033\n",
            "torch.Size([5, 705, 553, 4])\n",
            "torch.Size([5, 4, 705, 553])\n",
            "6/78, train_loss: 0.6062\n",
            "torch.Size([5, 705, 553, 4])\n",
            "torch.Size([5, 4, 705, 553])\n",
            "7/78, train_loss: 0.5912\n",
            "torch.Size([5, 705, 553, 4])\n",
            "torch.Size([5, 4, 705, 553])\n",
            "8/78, train_loss: 0.3859\n",
            "torch.Size([5, 705, 553, 4])\n",
            "torch.Size([5, 4, 705, 553])\n",
            "9/78, train_loss: 1.1339\n",
            "torch.Size([5, 705, 553, 4])\n",
            "torch.Size([5, 4, 705, 553])\n",
            "10/78, train_loss: 0.3273\n",
            "torch.Size([5, 705, 553, 4])\n",
            "torch.Size([5, 4, 705, 553])\n",
            "11/78, train_loss: 0.5196\n",
            "torch.Size([5, 705, 553, 4])\n",
            "torch.Size([5, 4, 705, 553])\n",
            "12/78, train_loss: 1.0814\n",
            "torch.Size([5, 705, 553, 4])\n",
            "torch.Size([5, 4, 705, 553])\n",
            "13/78, train_loss: 0.4457\n",
            "torch.Size([5, 705, 553, 4])\n",
            "torch.Size([5, 4, 705, 553])\n",
            "14/78, train_loss: 0.5377\n",
            "torch.Size([5, 705, 553, 4])\n",
            "torch.Size([5, 4, 705, 553])\n",
            "15/78, train_loss: 0.5899\n",
            "torch.Size([5, 705, 553, 4])\n",
            "torch.Size([5, 4, 705, 553])\n",
            "16/78, train_loss: 0.6119\n",
            "torch.Size([5, 705, 553, 4])\n",
            "torch.Size([5, 4, 705, 553])\n",
            "17/78, train_loss: 0.9201\n",
            "torch.Size([5, 705, 553, 4])\n",
            "torch.Size([5, 4, 705, 553])\n",
            "18/78, train_loss: 0.9689\n",
            "torch.Size([5, 705, 553, 4])\n",
            "torch.Size([5, 4, 705, 553])\n",
            "19/78, train_loss: 0.4981\n",
            "torch.Size([5, 705, 553, 4])\n",
            "torch.Size([5, 4, 705, 553])\n",
            "20/78, train_loss: 1.1405\n",
            "torch.Size([5, 705, 553, 4])\n",
            "torch.Size([5, 4, 705, 553])\n",
            "21/78, train_loss: 0.5704\n",
            "torch.Size([5, 705, 553, 4])\n",
            "torch.Size([5, 4, 705, 553])\n",
            "22/78, train_loss: 0.3760\n",
            "torch.Size([5, 705, 553, 4])\n",
            "torch.Size([5, 4, 705, 553])\n",
            "23/78, train_loss: 0.5112\n",
            "torch.Size([5, 705, 553, 4])\n",
            "torch.Size([5, 4, 705, 553])\n",
            "24/78, train_loss: 0.3753\n",
            "torch.Size([5, 705, 553, 4])\n",
            "torch.Size([5, 4, 705, 553])\n",
            "25/78, train_loss: 0.3503\n",
            "torch.Size([5, 705, 553, 4])\n",
            "torch.Size([5, 4, 705, 553])\n",
            "26/78, train_loss: 0.6111\n",
            "torch.Size([5, 705, 553, 4])\n",
            "torch.Size([5, 4, 705, 553])\n",
            "27/78, train_loss: 0.5098\n",
            "torch.Size([5, 705, 553, 4])\n",
            "torch.Size([5, 4, 705, 553])\n",
            "28/78, train_loss: 0.5461\n",
            "torch.Size([5, 705, 553, 4])\n",
            "torch.Size([5, 4, 705, 553])\n",
            "29/78, train_loss: 0.3189\n",
            "torch.Size([5, 705, 553, 4])\n",
            "torch.Size([5, 4, 705, 553])\n",
            "30/78, train_loss: 0.5203\n",
            "torch.Size([5, 705, 553, 4])\n",
            "torch.Size([5, 4, 705, 553])\n",
            "31/78, train_loss: 0.6050\n",
            "torch.Size([5, 705, 553, 4])\n",
            "torch.Size([5, 4, 705, 553])\n",
            "32/78, train_loss: 0.2922\n",
            "torch.Size([5, 705, 553, 4])\n",
            "torch.Size([5, 4, 705, 553])\n",
            "33/78, train_loss: 0.6074\n",
            "torch.Size([5, 705, 553, 4])\n",
            "torch.Size([5, 4, 705, 553])\n",
            "34/78, train_loss: 0.2819\n",
            "torch.Size([5, 705, 553, 4])\n",
            "torch.Size([5, 4, 705, 553])\n",
            "35/78, train_loss: 0.6414\n",
            "torch.Size([5, 705, 553, 4])\n",
            "torch.Size([5, 4, 705, 553])\n",
            "36/78, train_loss: 1.1201\n",
            "torch.Size([5, 705, 553, 4])\n",
            "torch.Size([5, 4, 705, 553])\n",
            "37/78, train_loss: 0.5592\n",
            "torch.Size([5, 705, 553, 4])\n",
            "torch.Size([5, 4, 705, 553])\n",
            "38/78, train_loss: 0.6034\n",
            "torch.Size([5, 705, 553, 4])\n",
            "torch.Size([5, 4, 705, 553])\n",
            "39/78, train_loss: 0.4760\n",
            "torch.Size([5, 705, 553, 4])\n",
            "torch.Size([5, 4, 705, 553])\n",
            "40/78, train_loss: 0.9449\n",
            "torch.Size([5, 705, 553, 4])\n",
            "torch.Size([5, 4, 705, 553])\n",
            "41/78, train_loss: 0.5338\n",
            "torch.Size([5, 705, 553, 4])\n",
            "torch.Size([5, 4, 705, 553])\n",
            "42/78, train_loss: 0.7935\n",
            "torch.Size([5, 705, 553, 4])\n",
            "torch.Size([5, 4, 705, 553])\n",
            "43/78, train_loss: 0.7726\n",
            "torch.Size([5, 705, 553, 4])\n",
            "torch.Size([5, 4, 705, 553])\n",
            "44/78, train_loss: 0.4482\n",
            "torch.Size([5, 705, 553, 4])\n",
            "torch.Size([5, 4, 705, 553])\n",
            "45/78, train_loss: 0.5662\n",
            "torch.Size([5, 705, 553, 4])\n",
            "torch.Size([5, 4, 705, 553])\n",
            "46/78, train_loss: 0.5630\n",
            "torch.Size([5, 705, 553, 4])\n",
            "torch.Size([5, 4, 705, 553])\n",
            "47/78, train_loss: 0.5647\n",
            "torch.Size([5, 705, 553, 4])\n",
            "torch.Size([5, 4, 705, 553])\n",
            "48/78, train_loss: 0.3801\n",
            "torch.Size([5, 705, 553, 4])\n",
            "torch.Size([5, 4, 705, 553])\n",
            "49/78, train_loss: 0.7460\n",
            "torch.Size([5, 705, 553, 4])\n",
            "torch.Size([5, 4, 705, 553])\n",
            "50/78, train_loss: 0.5269\n",
            "torch.Size([5, 705, 553, 4])\n",
            "torch.Size([5, 4, 705, 553])\n",
            "51/78, train_loss: 0.4802\n",
            "torch.Size([5, 705, 553, 4])\n",
            "torch.Size([5, 4, 705, 553])\n",
            "52/78, train_loss: 0.5533\n",
            "torch.Size([5, 705, 553, 4])\n",
            "torch.Size([5, 4, 705, 553])\n",
            "53/78, train_loss: 0.4948\n",
            "torch.Size([5, 705, 553, 4])\n",
            "torch.Size([5, 4, 705, 553])\n",
            "54/78, train_loss: 0.5567\n",
            "torch.Size([5, 705, 553, 4])\n",
            "torch.Size([5, 4, 705, 553])\n",
            "55/78, train_loss: 0.3174\n",
            "torch.Size([5, 705, 553, 4])\n",
            "torch.Size([5, 4, 705, 553])\n",
            "56/78, train_loss: 0.6411\n",
            "torch.Size([5, 705, 553, 4])\n",
            "torch.Size([5, 4, 705, 553])\n",
            "57/78, train_loss: 0.6109\n",
            "torch.Size([5, 705, 553, 4])\n",
            "torch.Size([5, 4, 705, 553])\n",
            "58/78, train_loss: 0.5782\n",
            "torch.Size([5, 705, 553, 4])\n",
            "torch.Size([5, 4, 705, 553])\n",
            "59/78, train_loss: 0.4601\n",
            "torch.Size([5, 705, 553, 4])\n",
            "torch.Size([5, 4, 705, 553])\n",
            "60/78, train_loss: 0.7969\n",
            "torch.Size([5, 705, 553, 4])\n",
            "torch.Size([5, 4, 705, 553])\n",
            "61/78, train_loss: 0.5333\n",
            "torch.Size([5, 705, 553, 4])\n",
            "torch.Size([5, 4, 705, 553])\n",
            "62/78, train_loss: 0.3214\n",
            "torch.Size([5, 705, 553, 4])\n",
            "torch.Size([5, 4, 705, 553])\n",
            "63/78, train_loss: 0.8009\n",
            "torch.Size([5, 705, 553, 4])\n",
            "torch.Size([5, 4, 705, 553])\n",
            "64/78, train_loss: 0.3699\n",
            "torch.Size([5, 705, 553, 4])\n",
            "torch.Size([5, 4, 705, 553])\n",
            "65/78, train_loss: 0.5940\n",
            "torch.Size([5, 705, 553, 4])\n",
            "torch.Size([5, 4, 705, 553])\n",
            "66/78, train_loss: 0.6064\n",
            "torch.Size([5, 705, 553, 4])\n",
            "torch.Size([5, 4, 705, 553])\n",
            "67/78, train_loss: 0.4588\n",
            "torch.Size([5, 705, 553, 4])\n",
            "torch.Size([5, 4, 705, 553])\n",
            "68/78, train_loss: 0.9859\n",
            "torch.Size([5, 705, 553, 4])\n",
            "torch.Size([5, 4, 705, 553])\n",
            "69/78, train_loss: 0.3650\n",
            "torch.Size([5, 705, 553, 4])\n",
            "torch.Size([5, 4, 705, 553])\n",
            "70/78, train_loss: 0.6358\n",
            "torch.Size([5, 705, 553, 4])\n",
            "torch.Size([5, 4, 705, 553])\n",
            "71/78, train_loss: 0.5541\n",
            "torch.Size([5, 705, 553, 4])\n",
            "torch.Size([5, 4, 705, 553])\n",
            "72/78, train_loss: 0.3107\n",
            "torch.Size([5, 705, 553, 4])\n",
            "torch.Size([5, 4, 705, 553])\n",
            "73/78, train_loss: 0.3935\n",
            "torch.Size([5, 705, 553, 4])\n",
            "torch.Size([5, 4, 705, 553])\n",
            "74/78, train_loss: 0.3094\n",
            "torch.Size([5, 705, 553, 4])\n",
            "torch.Size([5, 4, 705, 553])\n",
            "75/78, train_loss: 0.6020\n",
            "torch.Size([5, 705, 553, 4])\n",
            "torch.Size([5, 4, 705, 553])\n",
            "76/78, train_loss: 0.7247\n",
            "torch.Size([5, 705, 553, 4])\n",
            "torch.Size([5, 4, 705, 553])\n",
            "77/78, train_loss: 0.5848\n",
            "torch.Size([5, 705, 553, 4])\n",
            "torch.Size([5, 4, 705, 553])\n",
            "78/78, train_loss: 0.4805\n",
            "torch.Size([3, 705, 553, 4])\n",
            "torch.Size([3, 4, 705, 553])\n",
            "79/78, train_loss: 0.4054\n",
            "epoch 1 average loss: 0.5790\n",
            "torch.Size([0])\n",
            "torch.Size([5, 3])\n",
            "torch.Size([10, 3])\n",
            "torch.Size([15, 3])\n",
            "torch.Size([20, 3])\n",
            "torch.Size([25, 3])\n",
            "torch.Size([30, 3])\n",
            "torch.Size([35, 3])\n",
            "torch.Size([40, 3])\n",
            "torch.Size([45, 3])\n",
            "saved new best metric model\n",
            "current epoch: 1 current AUC: 0.9002 current accuracy: 0.8163 best AUC: 0.9002 at epoch: 1\n",
            "----------\n",
            "epoch 2/3\n",
            "torch.Size([5, 705, 553, 4])\n",
            "torch.Size([5, 4, 705, 553])\n",
            "1/78, train_loss: 0.5946\n",
            "torch.Size([5, 705, 553, 4])\n",
            "torch.Size([5, 4, 705, 553])\n",
            "2/78, train_loss: 0.9182\n",
            "torch.Size([5, 705, 553, 4])\n",
            "torch.Size([5, 4, 705, 553])\n",
            "3/78, train_loss: 0.6249\n",
            "torch.Size([5, 705, 553, 4])\n",
            "torch.Size([5, 4, 705, 553])\n",
            "4/78, train_loss: 0.3781\n",
            "torch.Size([5, 705, 553, 4])\n",
            "torch.Size([5, 4, 705, 553])\n",
            "5/78, train_loss: 0.2954\n",
            "torch.Size([5, 705, 553, 4])\n",
            "torch.Size([5, 4, 705, 553])\n",
            "6/78, train_loss: 0.4857\n",
            "torch.Size([5, 705, 553, 4])\n",
            "torch.Size([5, 4, 705, 553])\n",
            "7/78, train_loss: 0.5874\n",
            "torch.Size([5, 705, 553, 4])\n",
            "torch.Size([5, 4, 705, 553])\n",
            "8/78, train_loss: 0.4816\n",
            "torch.Size([5, 705, 553, 4])\n",
            "torch.Size([5, 4, 705, 553])\n",
            "9/78, train_loss: 0.3737\n",
            "torch.Size([5, 705, 553, 4])\n",
            "torch.Size([5, 4, 705, 553])\n",
            "10/78, train_loss: 0.8425\n",
            "torch.Size([5, 705, 553, 4])\n",
            "torch.Size([5, 4, 705, 553])\n",
            "11/78, train_loss: 0.7479\n",
            "torch.Size([5, 705, 553, 4])\n",
            "torch.Size([5, 4, 705, 553])\n",
            "12/78, train_loss: 0.4015\n",
            "torch.Size([5, 705, 553, 4])\n",
            "torch.Size([5, 4, 705, 553])\n",
            "13/78, train_loss: 0.5028\n",
            "torch.Size([5, 705, 553, 4])\n",
            "torch.Size([5, 4, 705, 553])\n",
            "14/78, train_loss: 0.2512\n",
            "torch.Size([5, 705, 553, 4])\n",
            "torch.Size([5, 4, 705, 553])\n",
            "15/78, train_loss: 0.5425\n",
            "torch.Size([5, 705, 553, 4])\n",
            "torch.Size([5, 4, 705, 553])\n",
            "16/78, train_loss: 0.3894\n",
            "torch.Size([5, 705, 553, 4])\n",
            "torch.Size([5, 4, 705, 553])\n",
            "17/78, train_loss: 1.1527\n",
            "torch.Size([5, 705, 553, 4])\n",
            "torch.Size([5, 4, 705, 553])\n",
            "18/78, train_loss: 1.2219\n",
            "torch.Size([5, 705, 553, 4])\n",
            "torch.Size([5, 4, 705, 553])\n",
            "19/78, train_loss: 0.8626\n",
            "torch.Size([5, 705, 553, 4])\n",
            "torch.Size([5, 4, 705, 553])\n",
            "20/78, train_loss: 0.2927\n",
            "torch.Size([5, 705, 553, 4])\n",
            "torch.Size([5, 4, 705, 553])\n",
            "21/78, train_loss: 0.3270\n",
            "torch.Size([5, 705, 553, 4])\n",
            "torch.Size([5, 4, 705, 553])\n",
            "22/78, train_loss: 0.4686\n",
            "torch.Size([5, 705, 553, 4])\n",
            "torch.Size([5, 4, 705, 553])\n",
            "23/78, train_loss: 0.9081\n",
            "torch.Size([5, 705, 553, 4])\n",
            "torch.Size([5, 4, 705, 553])\n",
            "24/78, train_loss: 0.4357\n",
            "torch.Size([5, 705, 553, 4])\n",
            "torch.Size([5, 4, 705, 553])\n",
            "25/78, train_loss: 0.3770\n",
            "torch.Size([5, 705, 553, 4])\n",
            "torch.Size([5, 4, 705, 553])\n",
            "26/78, train_loss: 0.8743\n",
            "torch.Size([5, 705, 553, 4])\n",
            "torch.Size([5, 4, 705, 553])\n",
            "27/78, train_loss: 0.4905\n",
            "torch.Size([5, 705, 553, 4])\n",
            "torch.Size([5, 4, 705, 553])\n",
            "28/78, train_loss: 0.5097\n",
            "torch.Size([5, 705, 553, 4])\n",
            "torch.Size([5, 4, 705, 553])\n",
            "29/78, train_loss: 0.6923\n",
            "torch.Size([5, 705, 553, 4])\n",
            "torch.Size([5, 4, 705, 553])\n",
            "30/78, train_loss: 0.3331\n",
            "torch.Size([5, 705, 553, 4])\n",
            "torch.Size([5, 4, 705, 553])\n",
            "31/78, train_loss: 0.6850\n",
            "torch.Size([5, 705, 553, 4])\n",
            "torch.Size([5, 4, 705, 553])\n",
            "32/78, train_loss: 0.4389\n",
            "torch.Size([5, 705, 553, 4])\n",
            "torch.Size([5, 4, 705, 553])\n",
            "33/78, train_loss: 0.9519\n",
            "torch.Size([5, 705, 553, 4])\n",
            "torch.Size([5, 4, 705, 553])\n",
            "34/78, train_loss: 0.8216\n",
            "torch.Size([5, 705, 553, 4])\n",
            "torch.Size([5, 4, 705, 553])\n",
            "35/78, train_loss: 0.5192\n",
            "torch.Size([5, 705, 553, 4])\n",
            "torch.Size([5, 4, 705, 553])\n",
            "36/78, train_loss: 0.5880\n",
            "torch.Size([5, 705, 553, 4])\n",
            "torch.Size([5, 4, 705, 553])\n",
            "37/78, train_loss: 0.3977\n",
            "torch.Size([5, 705, 553, 4])\n",
            "torch.Size([5, 4, 705, 553])\n",
            "38/78, train_loss: 0.3812\n",
            "torch.Size([5, 705, 553, 4])\n",
            "torch.Size([5, 4, 705, 553])\n",
            "39/78, train_loss: 0.3826\n",
            "torch.Size([5, 705, 553, 4])\n",
            "torch.Size([5, 4, 705, 553])\n",
            "40/78, train_loss: 0.2287\n",
            "torch.Size([5, 705, 553, 4])\n",
            "torch.Size([5, 4, 705, 553])\n",
            "41/78, train_loss: 0.5928\n",
            "torch.Size([5, 705, 553, 4])\n",
            "torch.Size([5, 4, 705, 553])\n",
            "42/78, train_loss: 0.3752\n",
            "torch.Size([5, 705, 553, 4])\n",
            "torch.Size([5, 4, 705, 553])\n",
            "43/78, train_loss: 0.3402\n",
            "torch.Size([5, 705, 553, 4])\n",
            "torch.Size([5, 4, 705, 553])\n",
            "44/78, train_loss: 0.5249\n",
            "torch.Size([5, 705, 553, 4])\n",
            "torch.Size([5, 4, 705, 553])\n",
            "45/78, train_loss: 0.3171\n",
            "torch.Size([5, 705, 553, 4])\n",
            "torch.Size([5, 4, 705, 553])\n",
            "46/78, train_loss: 0.4727\n",
            "torch.Size([5, 705, 553, 4])\n",
            "torch.Size([5, 4, 705, 553])\n",
            "47/78, train_loss: 0.5234\n",
            "torch.Size([5, 705, 553, 4])\n",
            "torch.Size([5, 4, 705, 553])\n",
            "48/78, train_loss: 0.3615\n",
            "torch.Size([5, 705, 553, 4])\n",
            "torch.Size([5, 4, 705, 553])\n",
            "49/78, train_loss: 0.5415\n",
            "torch.Size([5, 705, 553, 4])\n",
            "torch.Size([5, 4, 705, 553])\n",
            "50/78, train_loss: 0.3371\n",
            "torch.Size([5, 705, 553, 4])\n",
            "torch.Size([5, 4, 705, 553])\n",
            "51/78, train_loss: 0.5651\n",
            "torch.Size([5, 705, 553, 4])\n",
            "torch.Size([5, 4, 705, 553])\n",
            "52/78, train_loss: 0.5461\n",
            "torch.Size([5, 705, 553, 4])\n",
            "torch.Size([5, 4, 705, 553])\n",
            "53/78, train_loss: 0.2083\n",
            "torch.Size([5, 705, 553, 4])\n",
            "torch.Size([5, 4, 705, 553])\n",
            "54/78, train_loss: 0.4826\n",
            "torch.Size([5, 705, 553, 4])\n",
            "torch.Size([5, 4, 705, 553])\n",
            "55/78, train_loss: 0.4902\n",
            "torch.Size([5, 705, 553, 4])\n",
            "torch.Size([5, 4, 705, 553])\n",
            "56/78, train_loss: 0.8435\n",
            "torch.Size([5, 705, 553, 4])\n",
            "torch.Size([5, 4, 705, 553])\n",
            "57/78, train_loss: 0.3362\n",
            "torch.Size([5, 705, 553, 4])\n",
            "torch.Size([5, 4, 705, 553])\n",
            "58/78, train_loss: 0.6473\n",
            "torch.Size([5, 705, 553, 4])\n",
            "torch.Size([5, 4, 705, 553])\n",
            "59/78, train_loss: 0.4176\n",
            "torch.Size([5, 705, 553, 4])\n",
            "torch.Size([5, 4, 705, 553])\n",
            "60/78, train_loss: 0.6579\n",
            "torch.Size([5, 705, 553, 4])\n",
            "torch.Size([5, 4, 705, 553])\n",
            "61/78, train_loss: 0.3689\n",
            "torch.Size([5, 705, 553, 4])\n",
            "torch.Size([5, 4, 705, 553])\n",
            "62/78, train_loss: 0.3544\n",
            "torch.Size([5, 705, 553, 4])\n",
            "torch.Size([5, 4, 705, 553])\n",
            "63/78, train_loss: 0.4767\n",
            "torch.Size([5, 705, 553, 4])\n",
            "torch.Size([5, 4, 705, 553])\n",
            "64/78, train_loss: 0.5715\n",
            "torch.Size([5, 705, 553, 4])\n",
            "torch.Size([5, 4, 705, 553])\n",
            "65/78, train_loss: 0.4319\n",
            "torch.Size([5, 705, 553, 4])\n",
            "torch.Size([5, 4, 705, 553])\n",
            "66/78, train_loss: 0.4632\n",
            "torch.Size([5, 705, 553, 4])\n",
            "torch.Size([5, 4, 705, 553])\n",
            "67/78, train_loss: 0.3526\n",
            "torch.Size([5, 705, 553, 4])\n",
            "torch.Size([5, 4, 705, 553])\n",
            "68/78, train_loss: 0.3180\n",
            "torch.Size([5, 705, 553, 4])\n",
            "torch.Size([5, 4, 705, 553])\n",
            "69/78, train_loss: 0.5446\n",
            "torch.Size([5, 705, 553, 4])\n",
            "torch.Size([5, 4, 705, 553])\n",
            "70/78, train_loss: 0.5985\n",
            "torch.Size([5, 705, 553, 4])\n",
            "torch.Size([5, 4, 705, 553])\n",
            "71/78, train_loss: 0.7724\n",
            "torch.Size([5, 705, 553, 4])\n",
            "torch.Size([5, 4, 705, 553])\n",
            "72/78, train_loss: 0.2762\n",
            "torch.Size([5, 705, 553, 4])\n",
            "torch.Size([5, 4, 705, 553])\n",
            "73/78, train_loss: 0.4110\n",
            "torch.Size([5, 705, 553, 4])\n",
            "torch.Size([5, 4, 705, 553])\n",
            "74/78, train_loss: 0.2356\n",
            "torch.Size([5, 705, 553, 4])\n",
            "torch.Size([5, 4, 705, 553])\n",
            "75/78, train_loss: 0.4954\n",
            "torch.Size([5, 705, 553, 4])\n",
            "torch.Size([5, 4, 705, 553])\n",
            "76/78, train_loss: 0.3520\n",
            "torch.Size([5, 705, 553, 4])\n",
            "torch.Size([5, 4, 705, 553])\n",
            "77/78, train_loss: 0.4321\n",
            "torch.Size([5, 705, 553, 4])\n",
            "torch.Size([5, 4, 705, 553])\n",
            "78/78, train_loss: 0.4295\n",
            "torch.Size([3, 705, 553, 4])\n",
            "torch.Size([3, 4, 705, 553])\n",
            "79/78, train_loss: 0.7006\n",
            "epoch 2 average loss: 0.5180\n",
            "torch.Size([0])\n",
            "torch.Size([5, 3])\n",
            "torch.Size([10, 3])\n",
            "torch.Size([15, 3])\n",
            "torch.Size([20, 3])\n",
            "torch.Size([25, 3])\n",
            "torch.Size([30, 3])\n",
            "torch.Size([35, 3])\n",
            "torch.Size([40, 3])\n",
            "torch.Size([45, 3])\n",
            "current epoch: 2 current AUC: 0.8598 current accuracy: 0.4082 best AUC: 0.9002 at epoch: 1\n",
            "----------\n",
            "epoch 3/3\n",
            "torch.Size([5, 705, 553, 4])\n",
            "torch.Size([5, 4, 705, 553])\n",
            "1/78, train_loss: 0.6179\n",
            "torch.Size([5, 705, 553, 4])\n",
            "torch.Size([5, 4, 705, 553])\n",
            "2/78, train_loss: 0.8701\n",
            "torch.Size([5, 705, 553, 4])\n",
            "torch.Size([5, 4, 705, 553])\n",
            "3/78, train_loss: 0.3516\n",
            "torch.Size([5, 705, 553, 4])\n",
            "torch.Size([5, 4, 705, 553])\n",
            "4/78, train_loss: 0.4527\n",
            "torch.Size([5, 705, 553, 4])\n",
            "torch.Size([5, 4, 705, 553])\n",
            "5/78, train_loss: 0.6447\n",
            "torch.Size([5, 705, 553, 4])\n",
            "torch.Size([5, 4, 705, 553])\n",
            "6/78, train_loss: 0.3364\n",
            "torch.Size([5, 705, 553, 4])\n",
            "torch.Size([5, 4, 705, 553])\n",
            "7/78, train_loss: 0.3499\n",
            "torch.Size([5, 705, 553, 4])\n",
            "torch.Size([5, 4, 705, 553])\n",
            "8/78, train_loss: 0.6426\n",
            "torch.Size([5, 705, 553, 4])\n",
            "torch.Size([5, 4, 705, 553])\n",
            "9/78, train_loss: 0.5445\n",
            "torch.Size([5, 705, 553, 4])\n",
            "torch.Size([5, 4, 705, 553])\n",
            "10/78, train_loss: 0.2822\n",
            "torch.Size([5, 705, 553, 4])\n",
            "torch.Size([5, 4, 705, 553])\n",
            "11/78, train_loss: 0.4876\n",
            "torch.Size([5, 705, 553, 4])\n",
            "torch.Size([5, 4, 705, 553])\n",
            "12/78, train_loss: 0.6666\n",
            "torch.Size([5, 705, 553, 4])\n",
            "torch.Size([5, 4, 705, 553])\n",
            "13/78, train_loss: 1.0013\n",
            "torch.Size([5, 705, 553, 4])\n",
            "torch.Size([5, 4, 705, 553])\n",
            "14/78, train_loss: 0.2424\n",
            "torch.Size([5, 705, 553, 4])\n",
            "torch.Size([5, 4, 705, 553])\n",
            "15/78, train_loss: 0.7749\n",
            "torch.Size([5, 705, 553, 4])\n",
            "torch.Size([5, 4, 705, 553])\n",
            "16/78, train_loss: 0.3620\n",
            "torch.Size([5, 705, 553, 4])\n",
            "torch.Size([5, 4, 705, 553])\n",
            "17/78, train_loss: 0.2276\n",
            "torch.Size([5, 705, 553, 4])\n",
            "torch.Size([5, 4, 705, 553])\n",
            "18/78, train_loss: 0.2872\n",
            "torch.Size([5, 705, 553, 4])\n",
            "torch.Size([5, 4, 705, 553])\n",
            "19/78, train_loss: 0.5990\n",
            "torch.Size([5, 705, 553, 4])\n",
            "torch.Size([5, 4, 705, 553])\n",
            "20/78, train_loss: 0.3890\n",
            "torch.Size([5, 705, 553, 4])\n",
            "torch.Size([5, 4, 705, 553])\n",
            "21/78, train_loss: 0.4002\n",
            "torch.Size([5, 705, 553, 4])\n",
            "torch.Size([5, 4, 705, 553])\n",
            "22/78, train_loss: 1.0411\n",
            "torch.Size([5, 705, 553, 4])\n",
            "torch.Size([5, 4, 705, 553])\n",
            "23/78, train_loss: 0.6111\n",
            "torch.Size([5, 705, 553, 4])\n",
            "torch.Size([5, 4, 705, 553])\n",
            "24/78, train_loss: 0.5473\n",
            "torch.Size([5, 705, 553, 4])\n",
            "torch.Size([5, 4, 705, 553])\n",
            "25/78, train_loss: 1.1871\n",
            "torch.Size([5, 705, 553, 4])\n",
            "torch.Size([5, 4, 705, 553])\n",
            "26/78, train_loss: 0.6490\n",
            "torch.Size([5, 705, 553, 4])\n",
            "torch.Size([5, 4, 705, 553])\n",
            "27/78, train_loss: 0.3675\n",
            "torch.Size([5, 705, 553, 4])\n",
            "torch.Size([5, 4, 705, 553])\n",
            "28/78, train_loss: 0.3738\n",
            "torch.Size([5, 705, 553, 4])\n",
            "torch.Size([5, 4, 705, 553])\n",
            "29/78, train_loss: 0.2588\n",
            "torch.Size([5, 705, 553, 4])\n",
            "torch.Size([5, 4, 705, 553])\n",
            "30/78, train_loss: 0.5187\n",
            "torch.Size([5, 705, 553, 4])\n",
            "torch.Size([5, 4, 705, 553])\n",
            "31/78, train_loss: 1.1098\n",
            "torch.Size([5, 705, 553, 4])\n",
            "torch.Size([5, 4, 705, 553])\n",
            "32/78, train_loss: 0.4289\n",
            "torch.Size([5, 705, 553, 4])\n",
            "torch.Size([5, 4, 705, 553])\n",
            "33/78, train_loss: 0.8033\n",
            "torch.Size([5, 705, 553, 4])\n",
            "torch.Size([5, 4, 705, 553])\n",
            "34/78, train_loss: 0.3333\n",
            "torch.Size([5, 705, 553, 4])\n",
            "torch.Size([5, 4, 705, 553])\n",
            "35/78, train_loss: 0.3847\n",
            "torch.Size([5, 705, 553, 4])\n",
            "torch.Size([5, 4, 705, 553])\n",
            "36/78, train_loss: 0.4785\n",
            "torch.Size([5, 705, 553, 4])\n",
            "torch.Size([5, 4, 705, 553])\n",
            "37/78, train_loss: 0.2132\n",
            "torch.Size([5, 705, 553, 4])\n",
            "torch.Size([5, 4, 705, 553])\n",
            "38/78, train_loss: 0.9866\n",
            "torch.Size([5, 705, 553, 4])\n",
            "torch.Size([5, 4, 705, 553])\n",
            "39/78, train_loss: 0.3074\n",
            "torch.Size([5, 705, 553, 4])\n",
            "torch.Size([5, 4, 705, 553])\n",
            "40/78, train_loss: 0.3569\n",
            "torch.Size([5, 705, 553, 4])\n",
            "torch.Size([5, 4, 705, 553])\n",
            "41/78, train_loss: 0.2795\n",
            "torch.Size([5, 705, 553, 4])\n",
            "torch.Size([5, 4, 705, 553])\n",
            "42/78, train_loss: 0.5488\n",
            "torch.Size([5, 705, 553, 4])\n",
            "torch.Size([5, 4, 705, 553])\n",
            "43/78, train_loss: 0.3640\n",
            "torch.Size([5, 705, 553, 4])\n",
            "torch.Size([5, 4, 705, 553])\n",
            "44/78, train_loss: 0.9259\n",
            "torch.Size([5, 705, 553, 4])\n",
            "torch.Size([5, 4, 705, 553])\n",
            "45/78, train_loss: 0.4802\n",
            "torch.Size([5, 705, 553, 4])\n",
            "torch.Size([5, 4, 705, 553])\n",
            "46/78, train_loss: 0.6975\n",
            "torch.Size([5, 705, 553, 4])\n",
            "torch.Size([5, 4, 705, 553])\n",
            "47/78, train_loss: 0.6335\n",
            "torch.Size([5, 705, 553, 4])\n",
            "torch.Size([5, 4, 705, 553])\n",
            "48/78, train_loss: 0.5031\n",
            "torch.Size([5, 705, 553, 4])\n",
            "torch.Size([5, 4, 705, 553])\n",
            "49/78, train_loss: 0.2342\n",
            "torch.Size([5, 705, 553, 4])\n",
            "torch.Size([5, 4, 705, 553])\n",
            "50/78, train_loss: 0.3422\n",
            "torch.Size([5, 705, 553, 4])\n",
            "torch.Size([5, 4, 705, 553])\n",
            "51/78, train_loss: 1.3099\n",
            "torch.Size([5, 705, 553, 4])\n",
            "torch.Size([5, 4, 705, 553])\n",
            "52/78, train_loss: 0.6634\n",
            "torch.Size([5, 705, 553, 4])\n",
            "torch.Size([5, 4, 705, 553])\n",
            "53/78, train_loss: 0.2773\n",
            "torch.Size([5, 705, 553, 4])\n",
            "torch.Size([5, 4, 705, 553])\n",
            "54/78, train_loss: 0.9307\n",
            "torch.Size([5, 705, 553, 4])\n",
            "torch.Size([5, 4, 705, 553])\n",
            "55/78, train_loss: 0.4252\n",
            "torch.Size([5, 705, 553, 4])\n",
            "torch.Size([5, 4, 705, 553])\n",
            "56/78, train_loss: 0.8729\n",
            "torch.Size([5, 705, 553, 4])\n",
            "torch.Size([5, 4, 705, 553])\n",
            "57/78, train_loss: 0.3226\n",
            "torch.Size([5, 705, 553, 4])\n",
            "torch.Size([5, 4, 705, 553])\n",
            "58/78, train_loss: 0.2403\n",
            "torch.Size([5, 705, 553, 4])\n",
            "torch.Size([5, 4, 705, 553])\n",
            "59/78, train_loss: 0.9507\n",
            "torch.Size([5, 705, 553, 4])\n",
            "torch.Size([5, 4, 705, 553])\n",
            "60/78, train_loss: 0.3855\n",
            "torch.Size([5, 705, 553, 4])\n",
            "torch.Size([5, 4, 705, 553])\n",
            "61/78, train_loss: 0.5054\n",
            "torch.Size([5, 705, 553, 4])\n",
            "torch.Size([5, 4, 705, 553])\n",
            "62/78, train_loss: 0.9281\n",
            "torch.Size([5, 705, 553, 4])\n",
            "torch.Size([5, 4, 705, 553])\n",
            "63/78, train_loss: 0.6004\n",
            "torch.Size([5, 705, 553, 4])\n",
            "torch.Size([5, 4, 705, 553])\n",
            "64/78, train_loss: 0.9977\n",
            "torch.Size([5, 705, 553, 4])\n",
            "torch.Size([5, 4, 705, 553])\n",
            "65/78, train_loss: 0.3005\n",
            "torch.Size([5, 705, 553, 4])\n",
            "torch.Size([5, 4, 705, 553])\n",
            "66/78, train_loss: 0.3446\n",
            "torch.Size([5, 705, 553, 4])\n",
            "torch.Size([5, 4, 705, 553])\n",
            "67/78, train_loss: 0.2728\n",
            "torch.Size([5, 705, 553, 4])\n",
            "torch.Size([5, 4, 705, 553])\n",
            "68/78, train_loss: 0.4093\n",
            "torch.Size([5, 705, 553, 4])\n",
            "torch.Size([5, 4, 705, 553])\n",
            "69/78, train_loss: 0.6461\n",
            "torch.Size([5, 705, 553, 4])\n",
            "torch.Size([5, 4, 705, 553])\n",
            "70/78, train_loss: 0.9415\n",
            "torch.Size([5, 705, 553, 4])\n",
            "torch.Size([5, 4, 705, 553])\n",
            "71/78, train_loss: 0.3506\n",
            "torch.Size([5, 705, 553, 4])\n",
            "torch.Size([5, 4, 705, 553])\n",
            "72/78, train_loss: 0.6233\n",
            "torch.Size([5, 705, 553, 4])\n",
            "torch.Size([5, 4, 705, 553])\n",
            "73/78, train_loss: 0.2646\n",
            "torch.Size([5, 705, 553, 4])\n",
            "torch.Size([5, 4, 705, 553])\n",
            "74/78, train_loss: 0.7514\n",
            "torch.Size([5, 705, 553, 4])\n",
            "torch.Size([5, 4, 705, 553])\n",
            "75/78, train_loss: 0.4152\n",
            "torch.Size([5, 705, 553, 4])\n",
            "torch.Size([5, 4, 705, 553])\n",
            "76/78, train_loss: 0.4343\n",
            "torch.Size([5, 705, 553, 4])\n",
            "torch.Size([5, 4, 705, 553])\n",
            "77/78, train_loss: 0.5825\n",
            "torch.Size([5, 705, 553, 4])\n",
            "torch.Size([5, 4, 705, 553])\n",
            "78/78, train_loss: 0.4151\n",
            "torch.Size([3, 705, 553, 4])\n",
            "torch.Size([3, 4, 705, 553])\n",
            "79/78, train_loss: 0.2074\n",
            "epoch 3 average loss: 0.5426\n",
            "torch.Size([0])\n",
            "torch.Size([5, 3])\n",
            "torch.Size([10, 3])\n",
            "torch.Size([15, 3])\n",
            "torch.Size([20, 3])\n",
            "torch.Size([25, 3])\n",
            "torch.Size([30, 3])\n",
            "torch.Size([35, 3])\n",
            "torch.Size([40, 3])\n",
            "torch.Size([45, 3])\n",
            "saved new best metric model\n",
            "current epoch: 3 current AUC: 0.9154 current accuracy: 0.8776 best AUC: 0.9154 at epoch: 3\n",
            "train completed, best_metric: 0.9154 at epoch: 3\n"
          ],
          "name": "stdout"
        }
      ]
    },
    {
      "cell_type": "markdown",
      "metadata": {
        "id": "YcqqDAiSht4L"
      },
      "source": [
        "# Plot the loss and metric"
      ]
    },
    {
      "cell_type": "code",
      "metadata": {
        "colab": {
          "base_uri": "https://localhost:8080/",
          "height": 404
        },
        "id": "fYu2LhPIhs41",
        "outputId": "ce30db53-e126-4cf4-e1a2-53152a4be7d7"
      },
      "source": [
        "plt.figure(\"train\", (12, 6)) #\n",
        "plt.subplot(1, 2, 1)\n",
        "plt.title(\"Epoch Average Loss\")\n",
        "x = [i + 1 for i in range(len(epoch_loss_values))] #0부터 eppch_loss가 계산된 횟수까지 리스트에 저장\n",
        "y = epoch_loss_values #epoch_loss값\n",
        "plt.xlabel(\"epoch\") #축은 epoch\n",
        "plt.plot(x, y) \n",
        "plt.subplot(1, 2, 2)\n",
        "plt.title(\"Val AUC\")\n",
        "x = [val_interval * (i + 1) for i in range(len(metric_values))] #0에서 epoch수까지 1을 더해서 가져와서 validation interval과 곱함\n",
        "y = metric_values #epoch별 AUC값\n",
        "plt.xlabel(\"epoch\") #축은 epoch\n",
        "plt.plot(x, y)\n",
        "plt.show()"
      ],
      "execution_count": null,
      "outputs": [
        {
          "output_type": "display_data",
          "data": {
            "image/png": "[encoded data removed]",
            "text/plain": [
              "<Figure size 864x432 with 2 Axes>"
            ]
          },
          "metadata": {
            "tags": [],
            "needs_background": "light"
          }
        }
      ]
    },
    {
      "cell_type": "markdown",
      "metadata": {
        "id": "9n48kJDCk5zH"
      },
      "source": [
        "\n",
        "#Evaluate the model on test dataset\n",
        "\n",
        "After training and validation, we already got the best model on validation test.\n",
        "We need to evaluate the model on test dataset to check whether it's robust and not over-fitting.\n",
        "We'll use these predictions to generate a classification report.\n",
        "\n",
        "(training과 validation을 거친 후, 우리는 이미 validation 테스트에서 최고의 모델을 얻었습니다.\n",
        "테스트 데이터셋에서 모델을 평가하여 견고하고 overfitting되지 않았는지 확인해야 합니다.\n",
        "이러한 예측을 사용하여 classification를 생성하겠습니다.)"
      ]
    },
    {
      "cell_type": "code",
      "metadata": {
        "colab": {
          "base_uri": "https://localhost:8080/"
        },
        "id": "WyQN5IGPkF9z",
        "outputId": "2b5d9163-5cea-498b-bcc2-9efd13ad4c97"
      },
      "source": [
        "model.load_state_dict(torch.load(\n",
        "    os.path.join(root_dir, \"best_metric_model.pth\")))\n",
        "model.eval()\n",
        "y_true = []\n",
        "y_pred = []\n",
        "with torch.no_grad():\n",
        "    for test_data in test_loader:\n",
        "        test_images, test_labels = (  #test_image와 test_label을 가져옴\n",
        "            test_data[0].to(device),\n",
        "            test_data[1].to(device),\n",
        "        )\n",
        "        \n",
        "        test_images = test_images.reshape(test_images.shape[0], test_images.shape[3],test_images.shape[1],test_images.shape[2] )\n",
        "\n",
        "        pred = model(test_images).argmax(dim=1) #차원에서 텐서의 최대값 인덱스를 반환합니다.\n",
        "        for i in range(len(pred)):\n",
        "            y_true.append(test_labels[i].item()) # 정답들을 저장\n",
        "            y_pred.append(pred[i].item())        # 모델이 예측한 값들을 저장"
      ],
      "execution_count": null,
      "outputs": [
        {
          "output_type": "stream",
          "text": [
            "/usr/local/lib/python3.7/dist-packages/torch/utils/data/dataloader.py:481: UserWarning: This DataLoader will create 10 worker processes in total. Our suggested max number of worker in current system is 2, which is smaller than what this DataLoader is going to create. Please be aware that excessive worker creation might get DataLoader running slow or even freeze, lower the worker number to avoid potential slowness/freeze if necessary.\n",
            "  cpuset_checked))\n"
          ],
          "name": "stderr"
        }
      ]
    },
    {
      "cell_type": "code",
      "metadata": {
        "colab": {
          "base_uri": "https://localhost:8080/"
        },
        "id": "fGsN4d4hm-eD",
        "outputId": "a5bcb096-d709-4d34-c011-424dbc49d442"
      },
      "source": [
        "pred"
      ],
      "execution_count": null,
      "outputs": [
        {
          "output_type": "execute_result",
          "data": {
            "text/plain": [
              "tensor([0, 1, 1, 2], device='cuda:0')"
            ]
          },
          "metadata": {
            "tags": []
          },
          "execution_count": 148
        }
      ]
    },
    {
      "cell_type": "code",
      "metadata": {
        "colab": {
          "base_uri": "https://localhost:8080/"
        },
        "id": "S9fcPt5dnbiB",
        "outputId": "98499463-33ab-4392-db26-df76ab8a24c5"
      },
      "source": [
        "y_true"
      ],
      "execution_count": null,
      "outputs": [
        {
          "output_type": "execute_result",
          "data": {
            "text/plain": [
              "[0,\n",
              " 1,\n",
              " 1,\n",
              " 2,\n",
              " 2,\n",
              " 0,\n",
              " 1,\n",
              " 2,\n",
              " 0,\n",
              " 0,\n",
              " 1,\n",
              " 1,\n",
              " 2,\n",
              " 1,\n",
              " 0,\n",
              " 1,\n",
              " 2,\n",
              " 2,\n",
              " 0,\n",
              " 0,\n",
              " 1,\n",
              " 2,\n",
              " 1,\n",
              " 0,\n",
              " 0,\n",
              " 2,\n",
              " 0,\n",
              " 2,\n",
              " 0,\n",
              " 1,\n",
              " 2,\n",
              " 0,\n",
              " 0,\n",
              " 1,\n",
              " 2,\n",
              " 2,\n",
              " 1,\n",
              " 2,\n",
              " 2,\n",
              " 1,\n",
              " 1,\n",
              " 0,\n",
              " 2,\n",
              " 1,\n",
              " 0,\n",
              " 0,\n",
              " 1,\n",
              " 1,\n",
              " 2]"
            ]
          },
          "metadata": {
            "tags": []
          },
          "execution_count": 149
        }
      ]
    },
    {
      "cell_type": "code",
      "metadata": {
        "colab": {
          "base_uri": "https://localhost:8080/"
        },
        "id": "74xPMy69nnAT",
        "outputId": "75c2d3e7-14a2-43ef-8950-a66d0978149f"
      },
      "source": [
        "y_pred"
      ],
      "execution_count": null,
      "outputs": [
        {
          "output_type": "execute_result",
          "data": {
            "text/plain": [
              "[0,\n",
              " 1,\n",
              " 1,\n",
              " 2,\n",
              " 2,\n",
              " 0,\n",
              " 1,\n",
              " 0,\n",
              " 0,\n",
              " 0,\n",
              " 1,\n",
              " 1,\n",
              " 2,\n",
              " 1,\n",
              " 0,\n",
              " 1,\n",
              " 0,\n",
              " 0,\n",
              " 0,\n",
              " 0,\n",
              " 1,\n",
              " 2,\n",
              " 1,\n",
              " 0,\n",
              " 0,\n",
              " 0,\n",
              " 0,\n",
              " 0,\n",
              " 0,\n",
              " 1,\n",
              " 0,\n",
              " 0,\n",
              " 0,\n",
              " 1,\n",
              " 0,\n",
              " 0,\n",
              " 1,\n",
              " 2,\n",
              " 2,\n",
              " 1,\n",
              " 1,\n",
              " 0,\n",
              " 2,\n",
              " 1,\n",
              " 0,\n",
              " 0,\n",
              " 1,\n",
              " 1,\n",
              " 2]"
            ]
          },
          "metadata": {
            "tags": []
          },
          "execution_count": 150
        }
      ]
    }
  ]
}