{
 "cells": [
  {
   "cell_type": "code",
   "execution_count": 1,
   "id": "c739fae8",
   "metadata": {},
   "outputs": [],
   "source": [
    "import openslide\n",
    "import os\n",
    "import numpy as np"
   ]
  },
  {
   "cell_type": "code",
   "execution_count": 2,
   "id": "4e8ce8e4",
   "metadata": {},
   "outputs": [],
   "source": [
    "slide_path = os.path.join(\"Z:\\\\data\\\\valid\\\\LN_metastasis\\\\LN_068.mrxs\")"
   ]
  },
  {
   "cell_type": "code",
   "execution_count": 9,
   "id": "54b2c72a",
   "metadata": {},
   "outputs": [
    {
     "data": {
      "text/plain": [
       "(3, 2)"
      ]
     },
     "execution_count": 9,
     "metadata": {},
     "output_type": "execute_result"
    }
   ],
   "source": [
    "a = np.array([[1,2],[2,3],[2,5]])\n",
    "a.shape"
   ]
  },
  {
   "cell_type": "code",
   "execution_count": 3,
   "id": "2f7aa221",
   "metadata": {},
   "outputs": [],
   "source": [
    "slide = openslide.OpenSlide(slide_path)"
   ]
  },
  {
   "cell_type": "code",
   "execution_count": 4,
   "id": "b9a53cac",
   "metadata": {},
   "outputs": [
    {
     "name": "stdout",
     "output_type": "stream",
     "text": [
      "OpenSlide('Z:\\\\data\\\\valid\\\\LN_metastasis\\\\LN_068.mrxs')\n"
     ]
    }
   ],
   "source": [
    "print(slide)"
   ]
  },
  {
   "cell_type": "code",
   "execution_count": 5,
   "id": "744fb65a",
   "metadata": {},
   "outputs": [],
   "source": [
    "a = np.array(slide.read_region((0,0), 5, slide.level_dimensions[5]))[:,:,:3]"
   ]
  },
  {
   "cell_type": "code",
   "execution_count": 7,
   "id": "be7ed156",
   "metadata": {},
   "outputs": [
    {
     "data": {
      "text/plain": [
       "numpy.ndarray"
      ]
     },
     "execution_count": 7,
     "metadata": {},
     "output_type": "execute_result"
    }
   ],
   "source": [
    "type(a)"
   ]
  },
  {
   "cell_type": "code",
   "execution_count": 5,
   "id": "beb44d48",
   "metadata": {},
   "outputs": [
    {
     "name": "stdout",
     "output_type": "stream",
     "text": [
      "True\n"
     ]
    }
   ],
   "source": [
    "import torch\n",
    "print(torch.cuda.is_available())"
   ]
  },
  {
   "cell_type": "code",
   "execution_count": 6,
   "id": "53df5c0f",
   "metadata": {},
   "outputs": [],
   "source": [
    "import numpy as np"
   ]
  },
  {
   "cell_type": "code",
   "execution_count": 7,
   "id": "f4fe3ad7",
   "metadata": {},
   "outputs": [],
   "source": [
    "from collections import deque"
   ]
  },
  {
   "cell_type": "code",
   "execution_count": 9,
   "id": "1ddfe5dd",
   "metadata": {},
   "outputs": [],
   "source": [
    "queue = deque([1,2,3,4])"
   ]
  },
  {
   "cell_type": "code",
   "execution_count": 10,
   "id": "8329f66a",
   "metadata": {},
   "outputs": [
    {
     "name": "stdout",
     "output_type": "stream",
     "text": [
      "1\n"
     ]
    }
   ],
   "source": [
    "print(queue.popleft())"
   ]
  },
  {
   "cell_type": "code",
   "execution_count": 11,
   "id": "c5fdd5cd",
   "metadata": {},
   "outputs": [
    {
     "name": "stdout",
     "output_type": "stream",
     "text": [
      "2\n"
     ]
    }
   ],
   "source": [
    "print(queue.popleft())"
   ]
  }
 ],
 "metadata": {
  "kernelspec": {
   "display_name": "Python 3",
   "language": "python",
   "name": "python3"
  },
  "language_info": {
   "codemirror_mode": {
    "name": "ipython",
    "version": 3
   },
   "file_extension": ".py",
   "mimetype": "text/x-python",
   "name": "python",
   "nbconvert_exporter": "python",
   "pygments_lexer": "ipython3",
   "version": "3.9.4"
  }
 },
 "nbformat": 4,
 "nbformat_minor": 5
}
