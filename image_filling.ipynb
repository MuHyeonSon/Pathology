{
  "nbformat": 4,
  "nbformat_minor": 0,
  "metadata": {
    "orig_nbformat": 4,
    "language_info": {
      "name": "python",
      "version": "3.8.6",
      "mimetype": "text/x-python",
      "codemirror_mode": {
        "name": "ipython",
        "version": 3
      },
      "pygments_lexer": "ipython3",
      "nbconvert_exporter": "python",
      "file_extension": ".py"
    },
    "kernelspec": {
      "name": "python3",
      "display_name": "Python 3.8.6 64-bit"
    },
    "interpreter": {
      "hash": "b6c98351b93b22dcfef8d5b66d292f4e5667cf42682fa1575599ea5c894db108"
    },
    "colab": {
      "name": "image_filling.ipynb",
      "provenance": [],
      "include_colab_link": true
    }
  },
  "cells": [
    {
      "cell_type": "markdown",
      "metadata": {
        "id": "view-in-github",
        "colab_type": "text"
      },
      "source": [
        "<a href=\"https://colab.research.google.com/github/MuHyeonSon/Pathology/blob/main/image_filling.ipynb\" target=\"_parent\"><img src=\"https://colab.research.google.com/assets/colab-badge.svg\" alt=\"Open In Colab\"/></a>"
      ]
    },
    {
      "cell_type": "code",
      "metadata": {
        "id": "m1aOzWgGL6Xg"
      },
      "source": [
        "from pathlib import Path\n",
        "from PIL import Image"
      ],
      "execution_count": null,
      "outputs": []
    },
    {
      "cell_type": "code",
      "metadata": {
        "id": "mT0AWnWxL6Xi"
      },
      "source": [
        "path = Path('C:/Users/손창익/Desktop/Pathology/HW1/Data')\n",
        "\n",
        "image_dir = path / 'image'\n",
        "label_dir = path / 'label'\n",
        "\n",
        "image_paths = sorted(image_dir.glob('*.png'))\n",
        "label_paths = sorted(label_dir.glob('*'))\n",
        "assert len(image_paths) == len(label_paths)"
      ],
      "execution_count": null,
      "outputs": []
    },
    {
      "cell_type": "code",
      "metadata": {
        "colab": {
          "base_uri": "https://localhost:8080/"
        },
        "id": "Em8r-PisOkpo",
        "outputId": "71892ab8-2e50-464d-ab3a-f6a804eba9b1"
      },
      "source": [
        "print(label_dir)"
      ],
      "execution_count": null,
      "outputs": [
        {
          "output_type": "stream",
          "text": [
            "C:/Users/손창익/Desktop/Pathology/HW1/Data/label\n"
          ],
          "name": "stdout"
        }
      ]
    },
    {
      "cell_type": "code",
      "metadata": {
        "id": "Z7lVY_ObL6Xk"
      },
      "source": [
        "from PIL import ImageDraw, ImageChops\n",
        "\n",
        "for i in range(len(label_paths)):\n",
        "    print(f'processing {i+1} / {len(label_paths)}')\n",
        "    \n",
        "    img = Image.open(label_paths[i]).convert(\"RGB\")\n",
        "\n",
        "    rep_value = (255, 255, 255)\n",
        "\n",
        "    ImageDraw.floodfill(img, (0,0), rep_value)\n",
        "\n",
        "    mask = ImageChops.invert(img)\n",
        "\n",
        "    mask.save(f'C:/Users/손창익/Desktop/Pathology/HW1/Data/a/img_{i+1:02d}_mask.png')"
      ],
      "execution_count": null,
      "outputs": []
    }
  ]
}