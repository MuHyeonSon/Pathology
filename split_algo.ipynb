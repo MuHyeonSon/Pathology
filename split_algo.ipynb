{
  "nbformat": 4,
  "nbformat_minor": 0,
  "metadata": {
    "orig_nbformat": 4,
    "language_info": {
      "name": "python",
      "version": "3.8.6",
      "mimetype": "text/x-python",
      "codemirror_mode": {
        "name": "ipython",
        "version": 3
      },
      "pygments_lexer": "ipython3",
      "nbconvert_exporter": "python",
      "file_extension": ".py"
    },
    "kernelspec": {
      "name": "python3",
      "display_name": "Python 3.8.6 64-bit"
    },
    "interpreter": {
      "hash": "b6c98351b93b22dcfef8d5b66d292f4e5667cf42682fa1575599ea5c894db108"
    },
    "colab": {
      "name": "split_algo.ipynb",
      "provenance": [],
      "include_colab_link": true
    }
  },
  "cells": [
    {
      "cell_type": "markdown",
      "metadata": {
        "id": "view-in-github",
        "colab_type": "text"
      },
      "source": [
        "<a href=\"https://colab.research.google.com/github/MuHyeonSon/Pathology/blob/main/split_algo.ipynb\" target=\"_parent\"><img src=\"https://colab.research.google.com/assets/colab-badge.svg\" alt=\"Open In Colab\"/></a>"
      ]
    },
    {
      "cell_type": "code",
      "metadata": {
        "id": "RUpdEBbfF5Sm"
      },
      "source": [
        "import random\n",
        "import os"
      ],
      "execution_count": null,
      "outputs": []
    },
    {
      "cell_type": "markdown",
      "source": [
        "train,valid,test split 수정"
      ],
      "metadata": {
        "id": "6Ponac5lEs9B"
      }
    },
    {
      "cell_type": "code",
      "metadata": {
        "id": "I60K63IMF5So"
      },
      "source": [
        "dirname = 'C:/Users/dorim/desktop/python_study/new_patch/'"
      ],
      "execution_count": null,
      "outputs": []
    },
    {
      "cell_type": "code",
      "metadata": {
        "id": "_RPo6EY_F5So"
      },
      "source": [
        "def folder_count(dirname):\n",
        "    \n",
        "    count = int(0)\n",
        "\n",
        "    try:\n",
        "        filenames = os.listdir(dirname)\n",
        "        for filename in filenames:\n",
        "            full_filename = os.path.join(dirname, filename)\n",
        "            next_folders = os.listdir(full_filename)\n",
        "            for next_folder in next_folders:\n",
        "                foldername = os.path.join(full_filename, next_folder)\n",
        "                count += 1\n",
        "                #print(foldername)\n",
        "        \n",
        "        #print(count)\n",
        "        return int(count)\n",
        "        \n",
        "    \n",
        "    except PermissionError:\n",
        "        pass"
      ],
      "execution_count": null,
      "outputs": []
    },
    {
      "cell_type": "code",
      "metadata": {
        "id": "11zN3wgzF5Sp",
        "outputId": "27675ab2-3f8b-4352-ea01-a71b2e47b2f7"
      },
      "source": [
        "f_num = folder_count(dirname)\n",
        "\n",
        "f_num"
      ],
      "execution_count": null,
      "outputs": [
        {
          "output_type": "execute_result",
          "data": {
            "text/plain": [
              "40"
            ]
          },
          "metadata": {
            "tags": []
          },
          "execution_count": 6
        }
      ]
    },
    {
      "cell_type": "code",
      "metadata": {
        "id": "NIBB2cxrF5Sp"
      },
      "source": [
        "valid_rat = 0.1\n",
        "test_rat = 0.1"
      ],
      "execution_count": null,
      "outputs": []
    },
    {
      "cell_type": "code",
      "metadata": {
        "id": "lCF3e8JtF5Sq",
        "outputId": "e51ae90b-a0b2-45e4-90f5-988c79a8806d"
      },
      "source": [
        "train_c = int(f_num * (1 - (valid_rat + test_rat)))\n",
        "valid_c = int(f_num * valid_rat)\n",
        "test_c = int(f_num * test_rat)\n",
        "\n",
        "train_c, valid_c, test_c"
      ],
      "execution_count": null,
      "outputs": [
        {
          "output_type": "execute_result",
          "data": {
            "text/plain": [
              "(32, 4, 4)"
            ]
          },
          "metadata": {
            "tags": []
          },
          "execution_count": 9
        }
      ]
    },
    {
      "cell_type": "code",
      "metadata": {
        "id": "fw6QXv7QF5Sq"
      },
      "source": [
        "folder_no = random.sample(range(0, f_num),f_num)"
      ],
      "execution_count": null,
      "outputs": []
    },
    {
      "cell_type": "code",
      "metadata": {
        "id": "5zzirQCyF5Sq",
        "outputId": "d83381df-6cd8-4519-c902-f5fb938f5b36"
      },
      "source": [
        "train_dir = folder_no[0:train_c]\n",
        "valid_dir = folder_no[train_c:train_c+valid_c]\n",
        "test_dir = folder_no[-test_c:]\n",
        " \n",
        "train_dir, valid_dir, test_dir"
      ],
      "execution_count": null,
      "outputs": [
        {
          "output_type": "execute_result",
          "data": {
            "text/plain": [
              "([28,\n",
              "  21,\n",
              "  12,\n",
              "  16,\n",
              "  26,\n",
              "  9,\n",
              "  24,\n",
              "  1,\n",
              "  6,\n",
              "  38,\n",
              "  7,\n",
              "  18,\n",
              "  14,\n",
              "  2,\n",
              "  20,\n",
              "  23,\n",
              "  11,\n",
              "  10,\n",
              "  25,\n",
              "  36,\n",
              "  34,\n",
              "  0,\n",
              "  39,\n",
              "  8,\n",
              "  33,\n",
              "  4,\n",
              "  15,\n",
              "  5,\n",
              "  3,\n",
              "  19,\n",
              "  29,\n",
              "  35],\n",
              " [30, 31, 13, 32],\n",
              " [37, 22, 27, 17])"
            ]
          },
          "metadata": {
            "tags": []
          },
          "execution_count": 11
        }
      ]
    },
    {
      "cell_type": "code",
      "metadata": {
        "id": "brQ2rD1AF5Sr"
      },
      "source": [
        "# def folder_search(dirname, dir_type):\n",
        "    \n",
        "#     folder_list = []\n",
        "#     return_list = []\n",
        "\n",
        "#     hf_lists = os.listdir(dirname)\n",
        "\n",
        "#     for hf_list in hf_lists:\n",
        "#         lf_list = os.path.join(dirname, hf_list)\n",
        "#         next_folders = os.listdir(lf_list)\n",
        "#         for next_folder in next_folders:\n",
        "#             folder_name = os.path.join(lf_list, next_folder)\n",
        "#             folder_list.append(folder_name)\n",
        "\n",
        "#     for i in range(len(dir_type)):\n",
        "#         return_list.append(folder_list[type_dir[i]])\n",
        "\n",
        "#     return return_list"
      ],
      "execution_count": null,
      "outputs": []
    },
    {
      "cell_type": "code",
      "metadata": {
        "id": "p5sMXqULF5Sr"
      },
      "source": [
        "def file_count(folder_name):\n",
        "        \n",
        "    file_list = []\n",
        "\n",
        "    for path, dir, files in os.walk(folder_name):\n",
        "        for file in files:\n",
        "            file_list.append(path + \"/\" + file)\n",
        "    \n",
        "    return file_list\n"
      ],
      "execution_count": null,
      "outputs": []
    },
    {
      "cell_type": "code",
      "metadata": {
        "id": "qKJhNVJZF5Sr"
      },
      "source": [
        "def file_split(dirname, type_dir):\n",
        "            \n",
        "    folder_list = []\n",
        "    return_lists = []\n",
        "    files = []\n",
        "\n",
        "    hf_lists = os.listdir(dirname)\n",
        "\n",
        "    for hf_list in hf_lists:\n",
        "        lf_list = os.path.join(dirname, hf_list)\n",
        "        next_folders = os.listdir(lf_list)\n",
        "        for next_folder in next_folders:\n",
        "            folder_name = os.path.join(lf_list, next_folder)\n",
        "            folder_list.append(folder_name)\n",
        "\n",
        "    for i in range(len(type_dir)):\n",
        "        return_lists.append(folder_list[type_dir[i]])\n",
        "    \n",
        "    for return_list in return_lists:\n",
        "        files += file_count(return_list)\n",
        "\n",
        "    return files"
      ],
      "execution_count": null,
      "outputs": []
    },
    {
      "cell_type": "code",
      "metadata": {
        "id": "ULJvsGXCF5Ss",
        "outputId": "e4346066-8beb-44c0-840a-47c586161575"
      },
      "source": [
        "file_split(dirname, type_dir), len(file_split(dirname, type_dir))"
      ],
      "execution_count": null,
      "outputs": [
        {
          "output_type": "execute_result",
          "data": {
            "text/plain": [
              "(['C:/Users/dorim/desktop/python_study/new_patch/normal\\\\img11/Image11001_normal.png',\n",
              "  'C:/Users/dorim/desktop/python_study/new_patch/normal\\\\img11/Image11004_normal.png',\n",
              "  'C:/Users/dorim/desktop/python_study/new_patch/normal\\\\img11/Image11005_normal.png',\n",
              "  'C:/Users/dorim/desktop/python_study/new_patch/normal\\\\img11/Image11007_normal.png',\n",
              "  'C:/Users/dorim/desktop/python_study/new_patch/normal\\\\img11/Image11009_normal.png',\n",
              "  'C:/Users/dorim/desktop/python_study/new_patch/normal\\\\img11/Image11018_normal.png',\n",
              "  'C:/Users/dorim/desktop/python_study/new_patch/normal\\\\img11/Image11021_normal.png',\n",
              "  'C:/Users/dorim/desktop/python_study/new_patch/normal\\\\img11/Image11026_normal.png',\n",
              "  'C:/Users/dorim/desktop/python_study/new_patch/normal\\\\img11/Image11028_normal.png',\n",
              "  'C:/Users/dorim/desktop/python_study/new_patch/normal\\\\img11/Image11033_normal.png',\n",
              "  'C:/Users/dorim/desktop/python_study/new_patch/normal\\\\img11/Image11038_normal.png',\n",
              "  'C:/Users/dorim/desktop/python_study/new_patch/normal\\\\img11/Image11045_normal.png',\n",
              "  'C:/Users/dorim/desktop/python_study/new_patch/normal\\\\img11/Image11048_normal.png',\n",
              "  'C:/Users/dorim/desktop/python_study/new_patch/normal\\\\img11/Image11049_normal.png',\n",
              "  'C:/Users/dorim/desktop/python_study/new_patch/normal\\\\img11/Image11051_normal.png',\n",
              "  'C:/Users/dorim/desktop/python_study/new_patch/normal\\\\img11/Image11053_normal.png',\n",
              "  'C:/Users/dorim/desktop/python_study/new_patch/normal\\\\img11/Image11054_normal.png',\n",
              "  'C:/Users/dorim/desktop/python_study/new_patch/normal\\\\img11/Image11057_normal.png',\n",
              "  'C:/Users/dorim/desktop/python_study/new_patch/normal\\\\img11/Image11061_normal.png',\n",
              "  'C:/Users/dorim/desktop/python_study/new_patch/normal\\\\img11/Image11062_normal.png',\n",
              "  'C:/Users/dorim/desktop/python_study/new_patch/normal\\\\img11/Image11063_normal.png',\n",
              "  'C:/Users/dorim/desktop/python_study/new_patch/normal\\\\img11/Image11065_normal.png',\n",
              "  'C:/Users/dorim/desktop/python_study/new_patch/normal\\\\img11/Image11066_normal.png',\n",
              "  'C:/Users/dorim/desktop/python_study/new_patch/normal\\\\img11/Image11067_normal.png',\n",
              "  'C:/Users/dorim/desktop/python_study/new_patch/normal\\\\img11/Image11068_normal.png',\n",
              "  'C:/Users/dorim/desktop/python_study/new_patch/normal\\\\img11/Image11070_normal.png',\n",
              "  'C:/Users/dorim/desktop/python_study/new_patch/normal\\\\img11/Image11073_normal.png',\n",
              "  'C:/Users/dorim/desktop/python_study/new_patch/normal\\\\img11/Image11074_normal.png',\n",
              "  'C:/Users/dorim/desktop/python_study/new_patch/normal\\\\img11/Image11076_normal.png',\n",
              "  'C:/Users/dorim/desktop/python_study/new_patch/normal\\\\img11/Image11078_normal.png',\n",
              "  'C:/Users/dorim/desktop/python_study/new_patch/normal\\\\img11/Image11081_normal.png',\n",
              "  'C:/Users/dorim/desktop/python_study/new_patch/normal\\\\img11/Image11082_normal.png',\n",
              "  'C:/Users/dorim/desktop/python_study/new_patch/normal\\\\img11/Image11086_normal.png',\n",
              "  'C:/Users/dorim/desktop/python_study/new_patch/normal\\\\img11/Image11092_normal.png',\n",
              "  'C:/Users/dorim/desktop/python_study/new_patch/normal\\\\img11/Image11094_normal.png',\n",
              "  'C:/Users/dorim/desktop/python_study/new_patch/normal\\\\img11/Image11095_normal.png',\n",
              "  'C:/Users/dorim/desktop/python_study/new_patch/normal\\\\img11/Image11096_normal.png',\n",
              "  'C:/Users/dorim/desktop/python_study/new_patch/normal\\\\img11/Image11102_normal.png',\n",
              "  'C:/Users/dorim/desktop/python_study/new_patch/normal\\\\img11/Image11104_normal.png',\n",
              "  'C:/Users/dorim/desktop/python_study/new_patch/normal\\\\img11/Image11110_normal.png',\n",
              "  'C:/Users/dorim/desktop/python_study/new_patch/normal\\\\img11/Image11112_normal.png',\n",
              "  'C:/Users/dorim/desktop/python_study/new_patch/normal\\\\img11/Image11116_normal.png',\n",
              "  'C:/Users/dorim/desktop/python_study/new_patch/normal\\\\img11/Image11117_normal.png',\n",
              "  'C:/Users/dorim/desktop/python_study/new_patch/normal\\\\img11/Image11118_normal.png',\n",
              "  'C:/Users/dorim/desktop/python_study/new_patch/normal\\\\img11/Image11119_normal.png',\n",
              "  'C:/Users/dorim/desktop/python_study/new_patch/normal\\\\img11/Image11121_normal.png',\n",
              "  'C:/Users/dorim/desktop/python_study/new_patch/normal\\\\img11/Image11122_normal.png',\n",
              "  'C:/Users/dorim/desktop/python_study/new_patch/normal\\\\img11/Image11123_normal.png',\n",
              "  'C:/Users/dorim/desktop/python_study/new_patch/normal\\\\img11/Image11127_normal.png',\n",
              "  'C:/Users/dorim/desktop/python_study/new_patch/normal\\\\img11/Image11129_normal.png',\n",
              "  'C:/Users/dorim/desktop/python_study/new_patch/normal\\\\img11/Image11130_normal.png',\n",
              "  'C:/Users/dorim/desktop/python_study/new_patch/normal\\\\img11/Image11132_normal.png',\n",
              "  'C:/Users/dorim/desktop/python_study/new_patch/normal\\\\img11/Image11133_normal.png',\n",
              "  'C:/Users/dorim/desktop/python_study/new_patch/normal\\\\img11/Image11134_normal.png',\n",
              "  'C:/Users/dorim/desktop/python_study/new_patch/normal\\\\img11/Image11143_normal.png',\n",
              "  'C:/Users/dorim/desktop/python_study/new_patch/normal\\\\img11/Image11144_normal.png',\n",
              "  'C:/Users/dorim/desktop/python_study/new_patch/normal\\\\img11/Image11147_normal.png',\n",
              "  'C:/Users/dorim/desktop/python_study/new_patch/normal\\\\img11/Image11149_normal.png',\n",
              "  'C:/Users/dorim/desktop/python_study/new_patch/normal\\\\img11/Image11151_normal.png',\n",
              "  'C:/Users/dorim/desktop/python_study/new_patch/normal\\\\img11/Image11154_normal.png',\n",
              "  'C:/Users/dorim/desktop/python_study/new_patch/normal\\\\img11/Image11155_normal.png',\n",
              "  'C:/Users/dorim/desktop/python_study/new_patch/normal\\\\img11/Image11158_normal.png',\n",
              "  'C:/Users/dorim/desktop/python_study/new_patch/normal\\\\img11/Image11160_normal.png',\n",
              "  'C:/Users/dorim/desktop/python_study/new_patch/normal\\\\img11/Image11166_normal.png',\n",
              "  'C:/Users/dorim/desktop/python_study/new_patch/normal\\\\img11/Image11171_normal.png',\n",
              "  'C:/Users/dorim/desktop/python_study/new_patch/normal\\\\img11/Image11173_normal.png',\n",
              "  'C:/Users/dorim/desktop/python_study/new_patch/normal\\\\img11/Image11181_normal.png',\n",
              "  'C:/Users/dorim/desktop/python_study/new_patch/normal\\\\img11/Image11184_normal.png',\n",
              "  'C:/Users/dorim/desktop/python_study/new_patch/normal\\\\img11/Image11190_normal.png',\n",
              "  'C:/Users/dorim/desktop/python_study/new_patch/normal\\\\img11/Image11192_normal.png',\n",
              "  'C:/Users/dorim/desktop/python_study/new_patch/normal\\\\img11/Image11193_normal.png',\n",
              "  'C:/Users/dorim/desktop/python_study/new_patch/normal\\\\img11/Image11194_normal.png',\n",
              "  'C:/Users/dorim/desktop/python_study/new_patch/normal\\\\img11/Image11196_normal.png',\n",
              "  'C:/Users/dorim/desktop/python_study/new_patch/normal\\\\img11/Image11197_normal.png',\n",
              "  'C:/Users/dorim/desktop/python_study/new_patch/normal\\\\img11/Image11198_normal.png',\n",
              "  'C:/Users/dorim/desktop/python_study/new_patch/normal\\\\img12/Image12001_normal.png',\n",
              "  'C:/Users/dorim/desktop/python_study/new_patch/normal\\\\img12/Image12002_normal.png',\n",
              "  'C:/Users/dorim/desktop/python_study/new_patch/normal\\\\img12/Image12004_normal.png',\n",
              "  'C:/Users/dorim/desktop/python_study/new_patch/normal\\\\img12/Image12006_normal.png',\n",
              "  'C:/Users/dorim/desktop/python_study/new_patch/normal\\\\img12/Image12007_normal.png',\n",
              "  'C:/Users/dorim/desktop/python_study/new_patch/normal\\\\img12/Image12011_normal.png',\n",
              "  'C:/Users/dorim/desktop/python_study/new_patch/normal\\\\img12/Image12013_normal.png',\n",
              "  'C:/Users/dorim/desktop/python_study/new_patch/normal\\\\img12/Image12016_normal.png',\n",
              "  'C:/Users/dorim/desktop/python_study/new_patch/normal\\\\img12/Image12020_normal.png',\n",
              "  'C:/Users/dorim/desktop/python_study/new_patch/normal\\\\img12/Image12021_normal.png',\n",
              "  'C:/Users/dorim/desktop/python_study/new_patch/normal\\\\img12/Image12025_normal.png',\n",
              "  'C:/Users/dorim/desktop/python_study/new_patch/normal\\\\img12/Image12026_normal.png',\n",
              "  'C:/Users/dorim/desktop/python_study/new_patch/normal\\\\img12/Image12027_normal.png',\n",
              "  'C:/Users/dorim/desktop/python_study/new_patch/normal\\\\img12/Image12030_normal.png',\n",
              "  'C:/Users/dorim/desktop/python_study/new_patch/normal\\\\img12/Image12033_normal.png',\n",
              "  'C:/Users/dorim/desktop/python_study/new_patch/normal\\\\img12/Image12039_normal.png',\n",
              "  'C:/Users/dorim/desktop/python_study/new_patch/normal\\\\img12/Image12041_normal.png',\n",
              "  'C:/Users/dorim/desktop/python_study/new_patch/normal\\\\img12/Image12042_normal.png',\n",
              "  'C:/Users/dorim/desktop/python_study/new_patch/normal\\\\img12/Image12047_normal.png',\n",
              "  'C:/Users/dorim/desktop/python_study/new_patch/normal\\\\img12/Image12048_normal.png',\n",
              "  'C:/Users/dorim/desktop/python_study/new_patch/normal\\\\img12/Image12051_normal.png',\n",
              "  'C:/Users/dorim/desktop/python_study/new_patch/normal\\\\img12/Image12053_normal.png',\n",
              "  'C:/Users/dorim/desktop/python_study/new_patch/normal\\\\img12/Image12055_normal.png',\n",
              "  'C:/Users/dorim/desktop/python_study/new_patch/normal\\\\img12/Image12056_normal.png',\n",
              "  'C:/Users/dorim/desktop/python_study/new_patch/normal\\\\img12/Image12057_normal.png',\n",
              "  'C:/Users/dorim/desktop/python_study/new_patch/normal\\\\img12/Image12058_normal.png',\n",
              "  'C:/Users/dorim/desktop/python_study/new_patch/normal\\\\img12/Image12060_normal.png',\n",
              "  'C:/Users/dorim/desktop/python_study/new_patch/normal\\\\img12/Image12061_normal.png',\n",
              "  'C:/Users/dorim/desktop/python_study/new_patch/normal\\\\img12/Image12067_normal.png',\n",
              "  'C:/Users/dorim/desktop/python_study/new_patch/normal\\\\img12/Image12071_normal.png',\n",
              "  'C:/Users/dorim/desktop/python_study/new_patch/normal\\\\img12/Image12074_normal.png',\n",
              "  'C:/Users/dorim/desktop/python_study/new_patch/normal\\\\img12/Image12077_normal.png',\n",
              "  'C:/Users/dorim/desktop/python_study/new_patch/normal\\\\img12/Image12078_normal.png',\n",
              "  'C:/Users/dorim/desktop/python_study/new_patch/normal\\\\img12/Image12085_normal.png',\n",
              "  'C:/Users/dorim/desktop/python_study/new_patch/normal\\\\img12/Image12087_normal.png',\n",
              "  'C:/Users/dorim/desktop/python_study/new_patch/normal\\\\img12/Image12088_normal.png',\n",
              "  'C:/Users/dorim/desktop/python_study/new_patch/normal\\\\img12/Image12089_normal.png',\n",
              "  'C:/Users/dorim/desktop/python_study/new_patch/normal\\\\img12/Image12091_normal.png',\n",
              "  'C:/Users/dorim/desktop/python_study/new_patch/normal\\\\img12/Image12092_normal.png',\n",
              "  'C:/Users/dorim/desktop/python_study/new_patch/normal\\\\img12/Image12094_normal.png',\n",
              "  'C:/Users/dorim/desktop/python_study/new_patch/normal\\\\img12/Image12096_normal.png',\n",
              "  'C:/Users/dorim/desktop/python_study/new_patch/normal\\\\img12/Image12101_normal.png',\n",
              "  'C:/Users/dorim/desktop/python_study/new_patch/normal\\\\img12/Image12104_normal.png',\n",
              "  'C:/Users/dorim/desktop/python_study/new_patch/normal\\\\img12/Image12106_normal.png',\n",
              "  'C:/Users/dorim/desktop/python_study/new_patch/normal\\\\img12/Image12107_normal.png',\n",
              "  'C:/Users/dorim/desktop/python_study/new_patch/normal\\\\img12/Image12108_normal.png',\n",
              "  'C:/Users/dorim/desktop/python_study/new_patch/normal\\\\img12/Image12110_normal.png',\n",
              "  'C:/Users/dorim/desktop/python_study/new_patch/normal\\\\img12/Image12115_normal.png',\n",
              "  'C:/Users/dorim/desktop/python_study/new_patch/normal\\\\img12/Image12118_normal.png',\n",
              "  'C:/Users/dorim/desktop/python_study/new_patch/normal\\\\img12/Image12119_normal.png',\n",
              "  'C:/Users/dorim/desktop/python_study/new_patch/normal\\\\img12/Image12120_normal.png',\n",
              "  'C:/Users/dorim/desktop/python_study/new_patch/normal\\\\img12/Image12123_normal.png',\n",
              "  'C:/Users/dorim/desktop/python_study/new_patch/normal\\\\img12/Image12124_normal.png',\n",
              "  'C:/Users/dorim/desktop/python_study/new_patch/normal\\\\img12/Image12125_normal.png',\n",
              "  'C:/Users/dorim/desktop/python_study/new_patch/normal\\\\img12/Image12130_normal.png',\n",
              "  'C:/Users/dorim/desktop/python_study/new_patch/normal\\\\img12/Image12131_normal.png',\n",
              "  'C:/Users/dorim/desktop/python_study/new_patch/normal\\\\img12/Image12137_normal.png',\n",
              "  'C:/Users/dorim/desktop/python_study/new_patch/normal\\\\img12/Image12140_normal.png',\n",
              "  'C:/Users/dorim/desktop/python_study/new_patch/normal\\\\img12/Image12141_normal.png',\n",
              "  'C:/Users/dorim/desktop/python_study/new_patch/normal\\\\img12/Image12142_normal.png',\n",
              "  'C:/Users/dorim/desktop/python_study/new_patch/normal\\\\img12/Image12143_normal.png',\n",
              "  'C:/Users/dorim/desktop/python_study/new_patch/normal\\\\img12/Image12144_normal.png',\n",
              "  'C:/Users/dorim/desktop/python_study/new_patch/normal\\\\img12/Image12153_normal.png',\n",
              "  'C:/Users/dorim/desktop/python_study/new_patch/normal\\\\img12/Image12154_normal.png',\n",
              "  'C:/Users/dorim/desktop/python_study/new_patch/normal\\\\img12/Image12162_normal.png',\n",
              "  'C:/Users/dorim/desktop/python_study/new_patch/normal\\\\img12/Image12163_normal.png',\n",
              "  'C:/Users/dorim/desktop/python_study/new_patch/normal\\\\img12/Image12164_normal.png',\n",
              "  'C:/Users/dorim/desktop/python_study/new_patch/normal\\\\img12/Image12166_normal.png',\n",
              "  'C:/Users/dorim/desktop/python_study/new_patch/normal\\\\img12/Image12168_normal.png',\n",
              "  'C:/Users/dorim/desktop/python_study/new_patch/normal\\\\img12/Image12170_normal.png',\n",
              "  'C:/Users/dorim/desktop/python_study/new_patch/normal\\\\img12/Image12173_normal.png',\n",
              "  'C:/Users/dorim/desktop/python_study/new_patch/normal\\\\img12/Image12188_normal.png',\n",
              "  'C:/Users/dorim/desktop/python_study/new_patch/normal\\\\img12/Image12190_normal.png',\n",
              "  'C:/Users/dorim/desktop/python_study/new_patch/normal\\\\img12/Image12195_normal.png',\n",
              "  'C:/Users/dorim/desktop/python_study/new_patch/normal\\\\img12/Image12197_normal.png',\n",
              "  'C:/Users/dorim/desktop/python_study/new_patch/normal\\\\img12/Image12198_normal.png',\n",
              "  'C:/Users/dorim/desktop/python_study/new_patch/cancer\\\\img14/Image14009_abnormal.png',\n",
              "  'C:/Users/dorim/desktop/python_study/new_patch/cancer\\\\img14/Image14017_abnormal.png',\n",
              "  'C:/Users/dorim/desktop/python_study/new_patch/cancer\\\\img14/Image14019_abnormal.png',\n",
              "  'C:/Users/dorim/desktop/python_study/new_patch/cancer\\\\img14/Image14024_abnormal.png',\n",
              "  'C:/Users/dorim/desktop/python_study/new_patch/cancer\\\\img14/Image14028_abnormal.png',\n",
              "  'C:/Users/dorim/desktop/python_study/new_patch/cancer\\\\img14/Image14041_abnormal.png',\n",
              "  'C:/Users/dorim/desktop/python_study/new_patch/cancer\\\\img14/Image14059_abnormal.png',\n",
              "  'C:/Users/dorim/desktop/python_study/new_patch/cancer\\\\img14/Image14062_abnormal.png',\n",
              "  'C:/Users/dorim/desktop/python_study/new_patch/cancer\\\\img14/Image14096_abnormal.png',\n",
              "  'C:/Users/dorim/desktop/python_study/new_patch/cancer\\\\img14/Image14104_abnormal.png',\n",
              "  'C:/Users/dorim/desktop/python_study/new_patch/cancer\\\\img14/Image14110_abnormal.png',\n",
              "  'C:/Users/dorim/desktop/python_study/new_patch/cancer\\\\img14/Image14151_abnormal.png',\n",
              "  'C:/Users/dorim/desktop/python_study/new_patch/cancer\\\\img14/Image14152_abnormal.png',\n",
              "  'C:/Users/dorim/desktop/python_study/new_patch/cancer\\\\img14/Image14166_abnormal.png',\n",
              "  'C:/Users/dorim/desktop/python_study/new_patch/cancer\\\\img14/Image14171_abnormal.png',\n",
              "  'C:/Users/dorim/desktop/python_study/new_patch/cancer\\\\img14/Image14184_abnormal.png',\n",
              "  'C:/Users/dorim/desktop/python_study/new_patch/cancer\\\\img14/Image14190_abnormal.png',\n",
              "  'C:/Users/dorim/desktop/python_study/new_patch/cancer\\\\img14/Image14197_abnormal.png',\n",
              "  'C:/Users/dorim/desktop/python_study/new_patch/cancer\\\\img14/Image14199_abnormal.png',\n",
              "  'C:/Users/dorim/desktop/python_study/new_patch/cancer\\\\img14/Image14200_abnormal.png',\n",
              "  'C:/Users/dorim/desktop/python_study/new_patch/normal\\\\img13/Image13001_normal.png',\n",
              "  'C:/Users/dorim/desktop/python_study/new_patch/normal\\\\img13/Image13005_normal.png',\n",
              "  'C:/Users/dorim/desktop/python_study/new_patch/normal\\\\img13/Image13007_normal.png',\n",
              "  'C:/Users/dorim/desktop/python_study/new_patch/normal\\\\img13/Image13009_normal.png',\n",
              "  'C:/Users/dorim/desktop/python_study/new_patch/normal\\\\img13/Image13010_normal.png',\n",
              "  'C:/Users/dorim/desktop/python_study/new_patch/normal\\\\img13/Image13011_normal.png',\n",
              "  'C:/Users/dorim/desktop/python_study/new_patch/normal\\\\img13/Image13013_normal.png',\n",
              "  'C:/Users/dorim/desktop/python_study/new_patch/normal\\\\img13/Image13014_normal.png',\n",
              "  'C:/Users/dorim/desktop/python_study/new_patch/normal\\\\img13/Image13017_normal.png',\n",
              "  'C:/Users/dorim/desktop/python_study/new_patch/normal\\\\img13/Image13020_normal.png',\n",
              "  'C:/Users/dorim/desktop/python_study/new_patch/normal\\\\img13/Image13023_normal.png',\n",
              "  'C:/Users/dorim/desktop/python_study/new_patch/normal\\\\img13/Image13025_normal.png',\n",
              "  'C:/Users/dorim/desktop/python_study/new_patch/normal\\\\img13/Image13029_normal.png',\n",
              "  'C:/Users/dorim/desktop/python_study/new_patch/normal\\\\img13/Image13031_normal.png',\n",
              "  'C:/Users/dorim/desktop/python_study/new_patch/normal\\\\img13/Image13034_normal.png',\n",
              "  'C:/Users/dorim/desktop/python_study/new_patch/normal\\\\img13/Image13035_normal.png',\n",
              "  'C:/Users/dorim/desktop/python_study/new_patch/normal\\\\img13/Image13037_normal.png',\n",
              "  'C:/Users/dorim/desktop/python_study/new_patch/normal\\\\img13/Image13040_normal.png',\n",
              "  'C:/Users/dorim/desktop/python_study/new_patch/normal\\\\img13/Image13041_normal.png',\n",
              "  'C:/Users/dorim/desktop/python_study/new_patch/normal\\\\img13/Image13043_normal.png',\n",
              "  'C:/Users/dorim/desktop/python_study/new_patch/normal\\\\img13/Image13045_normal.png',\n",
              "  'C:/Users/dorim/desktop/python_study/new_patch/normal\\\\img13/Image13047_normal.png',\n",
              "  'C:/Users/dorim/desktop/python_study/new_patch/normal\\\\img13/Image13054_normal.png',\n",
              "  'C:/Users/dorim/desktop/python_study/new_patch/normal\\\\img13/Image13055_normal.png',\n",
              "  'C:/Users/dorim/desktop/python_study/new_patch/normal\\\\img13/Image13056_normal.png',\n",
              "  'C:/Users/dorim/desktop/python_study/new_patch/normal\\\\img13/Image13057_normal.png',\n",
              "  'C:/Users/dorim/desktop/python_study/new_patch/normal\\\\img13/Image13060_normal.png',\n",
              "  'C:/Users/dorim/desktop/python_study/new_patch/normal\\\\img13/Image13061_normal.png',\n",
              "  'C:/Users/dorim/desktop/python_study/new_patch/normal\\\\img13/Image13075_normal.png',\n",
              "  'C:/Users/dorim/desktop/python_study/new_patch/normal\\\\img13/Image13077_normal.png',\n",
              "  'C:/Users/dorim/desktop/python_study/new_patch/normal\\\\img13/Image13080_normal.png',\n",
              "  'C:/Users/dorim/desktop/python_study/new_patch/normal\\\\img13/Image13081_normal.png',\n",
              "  'C:/Users/dorim/desktop/python_study/new_patch/normal\\\\img13/Image13084_normal.png',\n",
              "  'C:/Users/dorim/desktop/python_study/new_patch/normal\\\\img13/Image13085_normal.png',\n",
              "  'C:/Users/dorim/desktop/python_study/new_patch/normal\\\\img13/Image13088_normal.png',\n",
              "  'C:/Users/dorim/desktop/python_study/new_patch/normal\\\\img13/Image13090_normal.png',\n",
              "  'C:/Users/dorim/desktop/python_study/new_patch/normal\\\\img13/Image13092_normal.png',\n",
              "  'C:/Users/dorim/desktop/python_study/new_patch/normal\\\\img13/Image13093_normal.png',\n",
              "  'C:/Users/dorim/desktop/python_study/new_patch/normal\\\\img13/Image13094_normal.png',\n",
              "  'C:/Users/dorim/desktop/python_study/new_patch/normal\\\\img13/Image13096_normal.png',\n",
              "  'C:/Users/dorim/desktop/python_study/new_patch/normal\\\\img13/Image13098_normal.png',\n",
              "  'C:/Users/dorim/desktop/python_study/new_patch/normal\\\\img13/Image13100_normal.png',\n",
              "  'C:/Users/dorim/desktop/python_study/new_patch/normal\\\\img13/Image13105_normal.png',\n",
              "  'C:/Users/dorim/desktop/python_study/new_patch/normal\\\\img13/Image13106_normal.png',\n",
              "  'C:/Users/dorim/desktop/python_study/new_patch/normal\\\\img13/Image13113_normal.png',\n",
              "  'C:/Users/dorim/desktop/python_study/new_patch/normal\\\\img13/Image13118_normal.png',\n",
              "  'C:/Users/dorim/desktop/python_study/new_patch/normal\\\\img13/Image13120_normal.png',\n",
              "  'C:/Users/dorim/desktop/python_study/new_patch/normal\\\\img13/Image13121_normal.png',\n",
              "  'C:/Users/dorim/desktop/python_study/new_patch/normal\\\\img13/Image13122_normal.png',\n",
              "  'C:/Users/dorim/desktop/python_study/new_patch/normal\\\\img13/Image13128_normal.png',\n",
              "  'C:/Users/dorim/desktop/python_study/new_patch/normal\\\\img13/Image13135_normal.png',\n",
              "  'C:/Users/dorim/desktop/python_study/new_patch/normal\\\\img13/Image13138_normal.png',\n",
              "  'C:/Users/dorim/desktop/python_study/new_patch/normal\\\\img13/Image13139_normal.png',\n",
              "  'C:/Users/dorim/desktop/python_study/new_patch/normal\\\\img13/Image13140_normal.png',\n",
              "  'C:/Users/dorim/desktop/python_study/new_patch/normal\\\\img13/Image13142_normal.png',\n",
              "  'C:/Users/dorim/desktop/python_study/new_patch/normal\\\\img13/Image13144_normal.png',\n",
              "  'C:/Users/dorim/desktop/python_study/new_patch/normal\\\\img13/Image13151_normal.png',\n",
              "  'C:/Users/dorim/desktop/python_study/new_patch/normal\\\\img13/Image13153_normal.png',\n",
              "  'C:/Users/dorim/desktop/python_study/new_patch/normal\\\\img13/Image13154_normal.png',\n",
              "  'C:/Users/dorim/desktop/python_study/new_patch/normal\\\\img13/Image13157_normal.png',\n",
              "  'C:/Users/dorim/desktop/python_study/new_patch/normal\\\\img13/Image13166_normal.png',\n",
              "  'C:/Users/dorim/desktop/python_study/new_patch/normal\\\\img13/Image13168_normal.png',\n",
              "  'C:/Users/dorim/desktop/python_study/new_patch/normal\\\\img13/Image13170_normal.png',\n",
              "  'C:/Users/dorim/desktop/python_study/new_patch/normal\\\\img13/Image13174_normal.png',\n",
              "  'C:/Users/dorim/desktop/python_study/new_patch/normal\\\\img13/Image13177_normal.png',\n",
              "  'C:/Users/dorim/desktop/python_study/new_patch/normal\\\\img13/Image13178_normal.png',\n",
              "  'C:/Users/dorim/desktop/python_study/new_patch/normal\\\\img13/Image13186_normal.png',\n",
              "  'C:/Users/dorim/desktop/python_study/new_patch/normal\\\\img13/Image13187_normal.png',\n",
              "  'C:/Users/dorim/desktop/python_study/new_patch/normal\\\\img13/Image13190_normal.png',\n",
              "  'C:/Users/dorim/desktop/python_study/new_patch/normal\\\\img13/Image13191_normal.png',\n",
              "  'C:/Users/dorim/desktop/python_study/new_patch/normal\\\\img13/Image13194_normal.png'],\n",
              " 242)"
            ]
          },
          "metadata": {
            "tags": []
          },
          "execution_count": 19
        }
      ]
    },
    {
      "cell_type": "code",
      "metadata": {
        "id": "pu1XZKe3F5Ss"
      },
      "source": [
        ""
      ],
      "execution_count": null,
      "outputs": []
    }
  ]
}